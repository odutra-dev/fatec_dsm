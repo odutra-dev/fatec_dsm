{
  "nbformat": 4,
  "nbformat_minor": 0,
  "metadata": {
    "colab": {
      "provenance": []
    },
    "kernelspec": {
      "name": "python3",
      "display_name": "Python 3"
    },
    "language_info": {
      "name": "python"
    }
  },
  "cells": [
    {
      "cell_type": "markdown",
      "source": [
        "# Exploração de Dados de Aplicações no Linkedin"
      ],
      "metadata": {
        "id": "5mnj2UfOBK8G"
      }
    },
    {
      "cell_type": "markdown",
      "source": [
        "## Instalar Bibliotecas"
      ],
      "metadata": {
        "id": "yvbM7MzXErqR"
      }
    },
    {
      "cell_type": "code",
      "source": [
        "# Apenas para garantir que as bibliotecas estão instaladas\n",
        "!pip install pandas plotly wordcloud"
      ],
      "metadata": {
        "colab": {
          "base_uri": "https://localhost:8080/"
        },
        "id": "f36UtIfaEw5Y",
        "outputId": "1433aeb5-53c4-46d7-cb13-40cad624b134"
      },
      "execution_count": 1,
      "outputs": [
        {
          "output_type": "stream",
          "name": "stdout",
          "text": [
            "Requirement already satisfied: pandas in /usr/local/lib/python3.12/dist-packages (2.2.2)\n",
            "Requirement already satisfied: plotly in /usr/local/lib/python3.12/dist-packages (5.24.1)\n",
            "Requirement already satisfied: wordcloud in /usr/local/lib/python3.12/dist-packages (1.9.4)\n",
            "Requirement already satisfied: numpy>=1.26.0 in /usr/local/lib/python3.12/dist-packages (from pandas) (2.0.2)\n",
            "Requirement already satisfied: python-dateutil>=2.8.2 in /usr/local/lib/python3.12/dist-packages (from pandas) (2.9.0.post0)\n",
            "Requirement already satisfied: pytz>=2020.1 in /usr/local/lib/python3.12/dist-packages (from pandas) (2025.2)\n",
            "Requirement already satisfied: tzdata>=2022.7 in /usr/local/lib/python3.12/dist-packages (from pandas) (2025.2)\n",
            "Requirement already satisfied: tenacity>=6.2.0 in /usr/local/lib/python3.12/dist-packages (from plotly) (8.5.0)\n",
            "Requirement already satisfied: packaging in /usr/local/lib/python3.12/dist-packages (from plotly) (25.0)\n",
            "Requirement already satisfied: pillow in /usr/local/lib/python3.12/dist-packages (from wordcloud) (11.3.0)\n",
            "Requirement already satisfied: matplotlib in /usr/local/lib/python3.12/dist-packages (from wordcloud) (3.10.0)\n",
            "Requirement already satisfied: six>=1.5 in /usr/local/lib/python3.12/dist-packages (from python-dateutil>=2.8.2->pandas) (1.17.0)\n",
            "Requirement already satisfied: contourpy>=1.0.1 in /usr/local/lib/python3.12/dist-packages (from matplotlib->wordcloud) (1.3.3)\n",
            "Requirement already satisfied: cycler>=0.10 in /usr/local/lib/python3.12/dist-packages (from matplotlib->wordcloud) (0.12.1)\n",
            "Requirement already satisfied: fonttools>=4.22.0 in /usr/local/lib/python3.12/dist-packages (from matplotlib->wordcloud) (4.60.1)\n",
            "Requirement already satisfied: kiwisolver>=1.3.1 in /usr/local/lib/python3.12/dist-packages (from matplotlib->wordcloud) (1.4.9)\n",
            "Requirement already satisfied: pyparsing>=2.3.1 in /usr/local/lib/python3.12/dist-packages (from matplotlib->wordcloud) (3.2.5)\n"
          ]
        }
      ]
    },
    {
      "cell_type": "markdown",
      "source": [
        "\n",
        "### 1️⃣ Exploração de Dados de Aplicações\n",
        "Arquivo: Job Applications.csv\n",
        "\n",
        "Desafio:\n",
        "- Identifique quantas candidaturas foram feitas por empresa.\n",
        "- Liste as empresas que mais receberam aplicações.\n",
        "- Calcule o tempo médio entre a aplicação e a resposta (caso exista a coluna 'Status Date').\n",
        "- Gere um gráfico de barras com as 10 empresas mais aplicadas.\n",
        "\n",
        "Extra: analise o comportamento temporal das candidaturas."
      ],
      "metadata": {
        "id": "ZONWdnAKBaEf"
      }
    },
    {
      "cell_type": "markdown",
      "source": [
        "## Carregar Bibliotecas e Dados do Exercício 1"
      ],
      "metadata": {
        "id": "RjgqRvnsFR6a"
      }
    },
    {
      "cell_type": "code",
      "source": [
        "import pandas as pd\n",
        "import plotly.express as px\n",
        "\n",
        "# Carregar o arquivo. O separador é ponto e vírgula (;)\n",
        "try:\n",
        "    df_apps = pd.read_csv('Job Applications.csv', sep=',')\n",
        "    print(\"Arquivo 'Job Applications.csv' carregado com sucesso!\")\n",
        "\n",
        "    # Mostrar as 5 primeiras linhas para conferir\n",
        "    print(df_apps.head())\n",
        "\n",
        "except FileNotFoundError:\n",
        "    print(\"ERRO: 'Job Applications_fake.csv' não encontrado. Faça o upload do arquivo.\")\n",
        "except Exception as e:\n",
        "    print(f\"Ocorreu um erro: {e}\")"
      ],
      "metadata": {
        "colab": {
          "base_uri": "https://localhost:8080/"
        },
        "id": "XxfOB6iVFXBc",
        "outputId": "906bac18-8c23-41e2-da13-4241b54147d7"
      },
      "execution_count": 14,
      "outputs": [
        {
          "output_type": "stream",
          "name": "stdout",
          "text": [
            "Arquivo 'Job Applications.csv' carregado com sucesso!\n",
            "    Application Date                   Contact Email Contact Phone Number  \\\n",
            "0   2/20/24, 6:41 PM  gabrieldutraamarante@gmail.com       +5513988080923   \n",
            "1  5/12/25, 12:32 PM  gabrieldutraamarante@gmail.com     +5513 98808-0923   \n",
            "2   1/31/24, 1:52 PM  gabrieldutraamarante@gmail.com       +5513988080923   \n",
            "3   1/21/25, 6:23 AM  gabrieldutraamarante@gmail.com     +5513 98808-0923   \n",
            "4   5/11/25, 1:00 PM  gabrieldutraamarante@gmail.com     +5513 98808-0923   \n",
            "\n",
            "                                      Company Name  \\\n",
            "0               MSC Mediterranean Shipping Company   \n",
            "1                                          Lisa IT   \n",
            "2                                 AML Reputacional   \n",
            "3                                           Manole   \n",
            "4  SOC - Software de Saúde e Segurança do Trabalho   \n",
            "\n",
            "                    Job Title                                       Job Url  \\\n",
            "0    Full Stack Web Developer  http://www.linkedin.com/jobs/view/3824781124   \n",
            "1          Desenvolvedor Java  http://www.linkedin.com/jobs/view/4226257807   \n",
            "2  Desenvolvedor de front-end  http://www.linkedin.com/jobs/view/3814285621   \n",
            "3         Engenheiro de Dados  http://www.linkedin.com/jobs/view/4129216684   \n",
            "4      Engenheiro(a) de Dados  http://www.linkedin.com/jobs/view/4213588591   \n",
            "\n",
            "          Resume Name                               Question And Answers  \n",
            "0  curriculo.docx.pdf  Indirizzo email:gabrieldutraamarante@gmail.com...  \n",
            "1  curriculo.docx.pdf  Você trabalharia em um modelo híbrido?:Sim | E...  \n",
            "2  curriculo.docx.pdf  E-mail:gabrieldutraamarante@gmail.com | Tempo ...  \n",
            "3  curriculo.docx.pdf  Você já trabalhou com plataformas de computaçã...  \n",
            "4  curriculo.docx.pdf  E-mail:gabrieldutraamarante@gmail.com | Você t...  \n"
          ]
        }
      ]
    },
    {
      "cell_type": "markdown",
      "source": [
        "## Identificar Candidaturas por Empresa e Listar as Mais Frequentes"
      ],
      "metadata": {
        "id": "0LGJiTu5Fgob"
      }
    },
    {
      "cell_type": "code",
      "source": [
        "if 'df_apps' in locals():\n",
        "    print(\"[1.1] Contagem de candidaturas por empresa:\")\n",
        "\n",
        "    # Contar quantas vezes cada empresa aparece\n",
        "    apps_por_empresa = df_apps['Company Name'].value_counts()\n",
        "\n",
        "    print(apps_por_empresa.to_string())\n",
        "\n",
        "    print(\"\\n[1.2] Empresas que mais receberam aplicações (Top 5):\")\n",
        "    print(apps_por_empresa.head(5))\n",
        "else:\n",
        "    print(\"DataFrame 'df_apps' não foi carregado. Execute a Célula 1.1 primeiro.\")"
      ],
      "metadata": {
        "colab": {
          "base_uri": "https://localhost:8080/"
        },
        "id": "tHJRZCHwFjwF",
        "outputId": "b96f17b3-952a-4992-c0db-15c5e4e47694"
      },
      "execution_count": 16,
      "outputs": [
        {
          "output_type": "stream",
          "name": "stdout",
          "text": [
            "[1.1] Contagem de candidaturas por empresa:\n",
            "Company Name\n",
            "MSC Mediterranean Shipping Company                 1\n",
            "Lisa IT                                            1\n",
            "AML Reputacional                                   1\n",
            "Manole                                             1\n",
            "SOC - Software de Saúde e Segurança do Trabalho    1\n",
            "Zero Emissions World                               1\n",
            "Capgemini                                          1\n",
            "INDI Staffing Services                             1\n",
            "Nearsure                                           1\n",
            "Green Acesso                                       1\n",
            "Andela                                             1\n",
            "Sisttech Tecnologia Educacional                    1\n",
            "\n",
            "[1.2] Empresas que mais receberam aplicações (Top 5):\n",
            "Company Name\n",
            "MSC Mediterranean Shipping Company                 1\n",
            "Lisa IT                                            1\n",
            "AML Reputacional                                   1\n",
            "Manole                                             1\n",
            "SOC - Software de Saúde e Segurança do Trabalho    1\n",
            "Name: count, dtype: int64\n"
          ]
        }
      ]
    },
    {
      "cell_type": "markdown",
      "source": [
        "## Calcular o Tempo Médio de Resposta"
      ],
      "metadata": {
        "id": "exupJq-CFule"
      }
    },
    {
      "cell_type": "code",
      "source": [
        "if 'df_apps' in locals():\n",
        "    print(\"[1.3] Cálculo do tempo médio de resposta:\")\n",
        "\n",
        "    # Converter a data de aplicação\n",
        "    df_apps['app_datetime'] = pd.to_datetime(df_apps['Application Date'], errors='coerce')\n",
        "\n",
        "    # Verificar se existe a coluna de status antes de tentar converter\n",
        "    if 'status_date' in df_apps.columns:\n",
        "        df_apps['status_datetime'] = pd.to_datetime(df_apps['status_date'], errors='coerce')\n",
        "        df_apps['tempo_resposta_dias'] = (df_apps['status_datetime'] - df_apps['app_datetime']).dt.days\n",
        "        media_dias = df_apps['tempo_resposta_dias'].dropna().mean()\n",
        "        print(f\"O tempo médio de resposta é: {media_dias:.0f} dias\")\n",
        "    else:\n",
        "        print(\"⚠️ Nenhuma coluna 'status_date' encontrada — não é possível calcular o tempo de resposta.\")\n",
        "else:\n",
        "    print(\"DataFrame 'df_apps' não foi carregado. Execute a Célula 1.1 primeiro.\")\n"
      ],
      "metadata": {
        "colab": {
          "base_uri": "https://localhost:8080/"
        },
        "id": "psqH5v7-FxYk",
        "outputId": "b671a330-3af4-4320-bcbd-24c9c8112b3f"
      },
      "execution_count": 20,
      "outputs": [
        {
          "output_type": "stream",
          "name": "stdout",
          "text": [
            "[1.3] Cálculo do tempo médio de resposta:\n",
            "⚠️ Nenhuma coluna 'status_date' encontrada — não é possível calcular o tempo de resposta.\n"
          ]
        },
        {
          "output_type": "stream",
          "name": "stderr",
          "text": [
            "/tmp/ipython-input-558014514.py:5: UserWarning: Could not infer format, so each element will be parsed individually, falling back to `dateutil`. To ensure parsing is consistent and as-expected, please specify a format.\n",
            "  df_apps['app_datetime'] = pd.to_datetime(df_apps['Application Date'], errors='coerce')\n"
          ]
        }
      ]
    },
    {
      "cell_type": "markdown",
      "source": [
        "## Gerar Gráfico de Barras (Top 10 Empresas)"
      ],
      "metadata": {
        "id": "2MhUFjOYGA1C"
      }
    },
    {
      "cell_type": "code",
      "source": [
        "if 'apps_por_empresa' in locals():\n",
        "    print(\"[1.4] Gerando gráfico de barras das 10 empresas mais aplicadas:\")\n",
        "\n",
        "    # Pegar as 10 primeiras empresas da nossa contagem\n",
        "    top_10_empresas = apps_por_empresa.head(10).reset_index()\n",
        "    # Renomear colunas para o gráfico\n",
        "    top_10_empresas.columns = ['Empresa', 'Contagem']\n",
        "\n",
        "    # Criar o gráfico de barras com Plotly Express (px)\n",
        "    fig_bar = px.bar(\n",
        "        top_10_empresas,\n",
        "        y='Empresa',        # Empresas no eixo Y\n",
        "        x='Contagem',       # Contagem no eixo X\n",
        "        title='Top 10 Empresas com Mais Aplicações',\n",
        "        orientation='h'     # Gráfico na horizontal\n",
        "    )\n",
        "\n",
        "    # Inverter a ordem do eixo Y para mostrar a maior em cima\n",
        "    fig_bar.update_layout(yaxis={'categoryorder':'total ascending'})\n",
        "\n",
        "    # Exibir o gráfico\n",
        "    fig_bar.show()\n",
        "else:\n",
        "    print(\"Variável 'apps_por_empresa' não encontrada. Execute a Célula 1.2 primeiro.\")"
      ],
      "metadata": {
        "colab": {
          "base_uri": "https://localhost:8080/",
          "height": 559
        },
        "id": "PXN1cEPBGC18",
        "outputId": "a742d189-83ea-496b-c3c2-420a06a81ec4"
      },
      "execution_count": 22,
      "outputs": [
        {
          "output_type": "stream",
          "name": "stdout",
          "text": [
            "[1.4] Gerando gráfico de barras das 10 empresas mais aplicadas:\n"
          ]
        },
        {
          "output_type": "display_data",
          "data": {
            "text/html": [
              "<html>\n",
              "<head><meta charset=\"utf-8\" /></head>\n",
              "<body>\n",
              "    <div>            <script src=\"https://cdnjs.cloudflare.com/ajax/libs/mathjax/2.7.5/MathJax.js?config=TeX-AMS-MML_SVG\"></script><script type=\"text/javascript\">if (window.MathJax && window.MathJax.Hub && window.MathJax.Hub.Config) {window.MathJax.Hub.Config({SVG: {font: \"STIX-Web\"}});}</script>                <script type=\"text/javascript\">window.PlotlyConfig = {MathJaxConfig: 'local'};</script>\n",
              "        <script charset=\"utf-8\" src=\"https://cdn.plot.ly/plotly-2.35.2.min.js\"></script>                <div id=\"fcff1a2e-9f58-403f-a3d0-9e1e3ad0d071\" class=\"plotly-graph-div\" style=\"height:525px; width:100%;\"></div>            <script type=\"text/javascript\">                                    window.PLOTLYENV=window.PLOTLYENV || {};                                    if (document.getElementById(\"fcff1a2e-9f58-403f-a3d0-9e1e3ad0d071\")) {                    Plotly.newPlot(                        \"fcff1a2e-9f58-403f-a3d0-9e1e3ad0d071\",                        [{\"alignmentgroup\":\"True\",\"hovertemplate\":\"Contagem=%{x}\\u003cbr\\u003eEmpresa=%{y}\\u003cextra\\u003e\\u003c\\u002fextra\\u003e\",\"legendgroup\":\"\",\"marker\":{\"color\":\"#636efa\",\"pattern\":{\"shape\":\"\"}},\"name\":\"\",\"offsetgroup\":\"\",\"orientation\":\"h\",\"showlegend\":false,\"textposition\":\"auto\",\"x\":[1,1,1,1,1,1,1,1,1,1],\"xaxis\":\"x\",\"y\":[\"MSC Mediterranean Shipping Company\",\"Lisa IT\",\"AML Reputacional\",\"Manole\",\"SOC - Software de Saúde e Segurança do Trabalho\",\"Zero Emissions World\",\"Capgemini\",\"INDI Staffing Services\",\"Nearsure\",\"Green Acesso\"],\"yaxis\":\"y\",\"type\":\"bar\"}],                        {\"template\":{\"data\":{\"histogram2dcontour\":[{\"type\":\"histogram2dcontour\",\"colorbar\":{\"outlinewidth\":0,\"ticks\":\"\"},\"colorscale\":[[0.0,\"#0d0887\"],[0.1111111111111111,\"#46039f\"],[0.2222222222222222,\"#7201a8\"],[0.3333333333333333,\"#9c179e\"],[0.4444444444444444,\"#bd3786\"],[0.5555555555555556,\"#d8576b\"],[0.6666666666666666,\"#ed7953\"],[0.7777777777777778,\"#fb9f3a\"],[0.8888888888888888,\"#fdca26\"],[1.0,\"#f0f921\"]]}],\"choropleth\":[{\"type\":\"choropleth\",\"colorbar\":{\"outlinewidth\":0,\"ticks\":\"\"}}],\"histogram2d\":[{\"type\":\"histogram2d\",\"colorbar\":{\"outlinewidth\":0,\"ticks\":\"\"},\"colorscale\":[[0.0,\"#0d0887\"],[0.1111111111111111,\"#46039f\"],[0.2222222222222222,\"#7201a8\"],[0.3333333333333333,\"#9c179e\"],[0.4444444444444444,\"#bd3786\"],[0.5555555555555556,\"#d8576b\"],[0.6666666666666666,\"#ed7953\"],[0.7777777777777778,\"#fb9f3a\"],[0.8888888888888888,\"#fdca26\"],[1.0,\"#f0f921\"]]}],\"heatmap\":[{\"type\":\"heatmap\",\"colorbar\":{\"outlinewidth\":0,\"ticks\":\"\"},\"colorscale\":[[0.0,\"#0d0887\"],[0.1111111111111111,\"#46039f\"],[0.2222222222222222,\"#7201a8\"],[0.3333333333333333,\"#9c179e\"],[0.4444444444444444,\"#bd3786\"],[0.5555555555555556,\"#d8576b\"],[0.6666666666666666,\"#ed7953\"],[0.7777777777777778,\"#fb9f3a\"],[0.8888888888888888,\"#fdca26\"],[1.0,\"#f0f921\"]]}],\"heatmapgl\":[{\"type\":\"heatmapgl\",\"colorbar\":{\"outlinewidth\":0,\"ticks\":\"\"},\"colorscale\":[[0.0,\"#0d0887\"],[0.1111111111111111,\"#46039f\"],[0.2222222222222222,\"#7201a8\"],[0.3333333333333333,\"#9c179e\"],[0.4444444444444444,\"#bd3786\"],[0.5555555555555556,\"#d8576b\"],[0.6666666666666666,\"#ed7953\"],[0.7777777777777778,\"#fb9f3a\"],[0.8888888888888888,\"#fdca26\"],[1.0,\"#f0f921\"]]}],\"contourcarpet\":[{\"type\":\"contourcarpet\",\"colorbar\":{\"outlinewidth\":0,\"ticks\":\"\"}}],\"contour\":[{\"type\":\"contour\",\"colorbar\":{\"outlinewidth\":0,\"ticks\":\"\"},\"colorscale\":[[0.0,\"#0d0887\"],[0.1111111111111111,\"#46039f\"],[0.2222222222222222,\"#7201a8\"],[0.3333333333333333,\"#9c179e\"],[0.4444444444444444,\"#bd3786\"],[0.5555555555555556,\"#d8576b\"],[0.6666666666666666,\"#ed7953\"],[0.7777777777777778,\"#fb9f3a\"],[0.8888888888888888,\"#fdca26\"],[1.0,\"#f0f921\"]]}],\"surface\":[{\"type\":\"surface\",\"colorbar\":{\"outlinewidth\":0,\"ticks\":\"\"},\"colorscale\":[[0.0,\"#0d0887\"],[0.1111111111111111,\"#46039f\"],[0.2222222222222222,\"#7201a8\"],[0.3333333333333333,\"#9c179e\"],[0.4444444444444444,\"#bd3786\"],[0.5555555555555556,\"#d8576b\"],[0.6666666666666666,\"#ed7953\"],[0.7777777777777778,\"#fb9f3a\"],[0.8888888888888888,\"#fdca26\"],[1.0,\"#f0f921\"]]}],\"mesh3d\":[{\"type\":\"mesh3d\",\"colorbar\":{\"outlinewidth\":0,\"ticks\":\"\"}}],\"scatter\":[{\"fillpattern\":{\"fillmode\":\"overlay\",\"size\":10,\"solidity\":0.2},\"type\":\"scatter\"}],\"parcoords\":[{\"type\":\"parcoords\",\"line\":{\"colorbar\":{\"outlinewidth\":0,\"ticks\":\"\"}}}],\"scatterpolargl\":[{\"type\":\"scatterpolargl\",\"marker\":{\"colorbar\":{\"outlinewidth\":0,\"ticks\":\"\"}}}],\"bar\":[{\"error_x\":{\"color\":\"#2a3f5f\"},\"error_y\":{\"color\":\"#2a3f5f\"},\"marker\":{\"line\":{\"color\":\"#E5ECF6\",\"width\":0.5},\"pattern\":{\"fillmode\":\"overlay\",\"size\":10,\"solidity\":0.2}},\"type\":\"bar\"}],\"scattergeo\":[{\"type\":\"scattergeo\",\"marker\":{\"colorbar\":{\"outlinewidth\":0,\"ticks\":\"\"}}}],\"scatterpolar\":[{\"type\":\"scatterpolar\",\"marker\":{\"colorbar\":{\"outlinewidth\":0,\"ticks\":\"\"}}}],\"histogram\":[{\"marker\":{\"pattern\":{\"fillmode\":\"overlay\",\"size\":10,\"solidity\":0.2}},\"type\":\"histogram\"}],\"scattergl\":[{\"type\":\"scattergl\",\"marker\":{\"colorbar\":{\"outlinewidth\":0,\"ticks\":\"\"}}}],\"scatter3d\":[{\"type\":\"scatter3d\",\"line\":{\"colorbar\":{\"outlinewidth\":0,\"ticks\":\"\"}},\"marker\":{\"colorbar\":{\"outlinewidth\":0,\"ticks\":\"\"}}}],\"scattermapbox\":[{\"type\":\"scattermapbox\",\"marker\":{\"colorbar\":{\"outlinewidth\":0,\"ticks\":\"\"}}}],\"scatterternary\":[{\"type\":\"scatterternary\",\"marker\":{\"colorbar\":{\"outlinewidth\":0,\"ticks\":\"\"}}}],\"scattercarpet\":[{\"type\":\"scattercarpet\",\"marker\":{\"colorbar\":{\"outlinewidth\":0,\"ticks\":\"\"}}}],\"carpet\":[{\"aaxis\":{\"endlinecolor\":\"#2a3f5f\",\"gridcolor\":\"white\",\"linecolor\":\"white\",\"minorgridcolor\":\"white\",\"startlinecolor\":\"#2a3f5f\"},\"baxis\":{\"endlinecolor\":\"#2a3f5f\",\"gridcolor\":\"white\",\"linecolor\":\"white\",\"minorgridcolor\":\"white\",\"startlinecolor\":\"#2a3f5f\"},\"type\":\"carpet\"}],\"table\":[{\"cells\":{\"fill\":{\"color\":\"#EBF0F8\"},\"line\":{\"color\":\"white\"}},\"header\":{\"fill\":{\"color\":\"#C8D4E3\"},\"line\":{\"color\":\"white\"}},\"type\":\"table\"}],\"barpolar\":[{\"marker\":{\"line\":{\"color\":\"#E5ECF6\",\"width\":0.5},\"pattern\":{\"fillmode\":\"overlay\",\"size\":10,\"solidity\":0.2}},\"type\":\"barpolar\"}],\"pie\":[{\"automargin\":true,\"type\":\"pie\"}]},\"layout\":{\"autotypenumbers\":\"strict\",\"colorway\":[\"#636efa\",\"#EF553B\",\"#00cc96\",\"#ab63fa\",\"#FFA15A\",\"#19d3f3\",\"#FF6692\",\"#B6E880\",\"#FF97FF\",\"#FECB52\"],\"font\":{\"color\":\"#2a3f5f\"},\"hovermode\":\"closest\",\"hoverlabel\":{\"align\":\"left\"},\"paper_bgcolor\":\"white\",\"plot_bgcolor\":\"#E5ECF6\",\"polar\":{\"bgcolor\":\"#E5ECF6\",\"angularaxis\":{\"gridcolor\":\"white\",\"linecolor\":\"white\",\"ticks\":\"\"},\"radialaxis\":{\"gridcolor\":\"white\",\"linecolor\":\"white\",\"ticks\":\"\"}},\"ternary\":{\"bgcolor\":\"#E5ECF6\",\"aaxis\":{\"gridcolor\":\"white\",\"linecolor\":\"white\",\"ticks\":\"\"},\"baxis\":{\"gridcolor\":\"white\",\"linecolor\":\"white\",\"ticks\":\"\"},\"caxis\":{\"gridcolor\":\"white\",\"linecolor\":\"white\",\"ticks\":\"\"}},\"coloraxis\":{\"colorbar\":{\"outlinewidth\":0,\"ticks\":\"\"}},\"colorscale\":{\"sequential\":[[0.0,\"#0d0887\"],[0.1111111111111111,\"#46039f\"],[0.2222222222222222,\"#7201a8\"],[0.3333333333333333,\"#9c179e\"],[0.4444444444444444,\"#bd3786\"],[0.5555555555555556,\"#d8576b\"],[0.6666666666666666,\"#ed7953\"],[0.7777777777777778,\"#fb9f3a\"],[0.8888888888888888,\"#fdca26\"],[1.0,\"#f0f921\"]],\"sequentialminus\":[[0.0,\"#0d0887\"],[0.1111111111111111,\"#46039f\"],[0.2222222222222222,\"#7201a8\"],[0.3333333333333333,\"#9c179e\"],[0.4444444444444444,\"#bd3786\"],[0.5555555555555556,\"#d8576b\"],[0.6666666666666666,\"#ed7953\"],[0.7777777777777778,\"#fb9f3a\"],[0.8888888888888888,\"#fdca26\"],[1.0,\"#f0f921\"]],\"diverging\":[[0,\"#8e0152\"],[0.1,\"#c51b7d\"],[0.2,\"#de77ae\"],[0.3,\"#f1b6da\"],[0.4,\"#fde0ef\"],[0.5,\"#f7f7f7\"],[0.6,\"#e6f5d0\"],[0.7,\"#b8e186\"],[0.8,\"#7fbc41\"],[0.9,\"#4d9221\"],[1,\"#276419\"]]},\"xaxis\":{\"gridcolor\":\"white\",\"linecolor\":\"white\",\"ticks\":\"\",\"title\":{\"standoff\":15},\"zerolinecolor\":\"white\",\"automargin\":true,\"zerolinewidth\":2},\"yaxis\":{\"gridcolor\":\"white\",\"linecolor\":\"white\",\"ticks\":\"\",\"title\":{\"standoff\":15},\"zerolinecolor\":\"white\",\"automargin\":true,\"zerolinewidth\":2},\"scene\":{\"xaxis\":{\"backgroundcolor\":\"#E5ECF6\",\"gridcolor\":\"white\",\"linecolor\":\"white\",\"showbackground\":true,\"ticks\":\"\",\"zerolinecolor\":\"white\",\"gridwidth\":2},\"yaxis\":{\"backgroundcolor\":\"#E5ECF6\",\"gridcolor\":\"white\",\"linecolor\":\"white\",\"showbackground\":true,\"ticks\":\"\",\"zerolinecolor\":\"white\",\"gridwidth\":2},\"zaxis\":{\"backgroundcolor\":\"#E5ECF6\",\"gridcolor\":\"white\",\"linecolor\":\"white\",\"showbackground\":true,\"ticks\":\"\",\"zerolinecolor\":\"white\",\"gridwidth\":2}},\"shapedefaults\":{\"line\":{\"color\":\"#2a3f5f\"}},\"annotationdefaults\":{\"arrowcolor\":\"#2a3f5f\",\"arrowhead\":0,\"arrowwidth\":1},\"geo\":{\"bgcolor\":\"white\",\"landcolor\":\"#E5ECF6\",\"subunitcolor\":\"white\",\"showland\":true,\"showlakes\":true,\"lakecolor\":\"white\"},\"title\":{\"x\":0.05},\"mapbox\":{\"style\":\"light\"}}},\"xaxis\":{\"anchor\":\"y\",\"domain\":[0.0,1.0],\"title\":{\"text\":\"Contagem\"}},\"yaxis\":{\"anchor\":\"x\",\"domain\":[0.0,1.0],\"title\":{\"text\":\"Empresa\"},\"categoryorder\":\"total ascending\"},\"legend\":{\"tracegroupgap\":0},\"title\":{\"text\":\"Top 10 Empresas com Mais Aplicações\"},\"barmode\":\"relative\"},                        {\"responsive\": true}                    ).then(function(){\n",
              "                            \n",
              "var gd = document.getElementById('fcff1a2e-9f58-403f-a3d0-9e1e3ad0d071');\n",
              "var x = new MutationObserver(function (mutations, observer) {{\n",
              "        var display = window.getComputedStyle(gd).display;\n",
              "        if (!display || display === 'none') {{\n",
              "            console.log([gd, 'removed!']);\n",
              "            Plotly.purge(gd);\n",
              "            observer.disconnect();\n",
              "        }}\n",
              "}});\n",
              "\n",
              "// Listen for the removal of the full notebook cells\n",
              "var notebookContainer = gd.closest('#notebook-container');\n",
              "if (notebookContainer) {{\n",
              "    x.observe(notebookContainer, {childList: true});\n",
              "}}\n",
              "\n",
              "// Listen for the clearing of the current output cell\n",
              "var outputEl = gd.closest('.output');\n",
              "if (outputEl) {{\n",
              "    x.observe(outputEl, {childList: true});\n",
              "}}\n",
              "\n",
              "                        })                };                            </script>        </div>\n",
              "</body>\n",
              "</html>"
            ]
          },
          "metadata": {}
        }
      ]
    },
    {
      "cell_type": "markdown",
      "source": [
        "## (Extra): Análise Temporal das Candidaturas"
      ],
      "metadata": {
        "id": "rrkYSnIwJeFA"
      }
    },
    {
      "cell_type": "code",
      "source": [
        "if 'df_apps' in locals() and 'app_datetime' in df_apps.columns:\n",
        "    print(\"[Extra] Análise temporal das candidaturas:\")\n",
        "\n",
        "    # Agrupar candidaturas por data (sem a hora) e contar\n",
        "    # .dt.date extrai apenas a data (ex: 2025-10-23)\n",
        "    df_apps['data_aplicacao'] = df_apps['app_datetime'].dt.date\n",
        "\n",
        "    # Agrupar por data e contar quantas aplicações ocorreram naquele dia\n",
        "    apps_por_dia = df_apps.groupby('data_aplicacao').size().reset_index(name='Contagem')\n",
        "\n",
        "    # Criar o gráfico de linha com Plotly Express\n",
        "    fig_line = px.line(\n",
        "        apps_por_dia,\n",
        "        x='data_aplicacao',\n",
        "        y='Contagem',\n",
        "        title='Candidaturas ao Longo do Tempo',\n",
        "        markers=True # Adiciona bolinhas nos pontos de dados\n",
        "    )\n",
        "\n",
        "    fig_line.show()\n",
        "else:\n",
        "    print(\"DataFrame 'df_apps' ou coluna 'app_datetime' não encontrados. Execute a Célula 1.3 primeiro.\")"
      ],
      "metadata": {
        "colab": {
          "base_uri": "https://localhost:8080/",
          "height": 559
        },
        "id": "t54Y21xIJgFN",
        "outputId": "10410e50-f204-4933-ab4b-cd44b25bf8cb"
      },
      "execution_count": 23,
      "outputs": [
        {
          "output_type": "stream",
          "name": "stdout",
          "text": [
            "[Extra] Análise temporal das candidaturas:\n"
          ]
        },
        {
          "output_type": "display_data",
          "data": {
            "text/html": [
              "<html>\n",
              "<head><meta charset=\"utf-8\" /></head>\n",
              "<body>\n",
              "    <div>            <script src=\"https://cdnjs.cloudflare.com/ajax/libs/mathjax/2.7.5/MathJax.js?config=TeX-AMS-MML_SVG\"></script><script type=\"text/javascript\">if (window.MathJax && window.MathJax.Hub && window.MathJax.Hub.Config) {window.MathJax.Hub.Config({SVG: {font: \"STIX-Web\"}});}</script>                <script type=\"text/javascript\">window.PlotlyConfig = {MathJaxConfig: 'local'};</script>\n",
              "        <script charset=\"utf-8\" src=\"https://cdn.plot.ly/plotly-2.35.2.min.js\"></script>                <div id=\"49b9c6f5-8760-444d-aa93-29fbdb0ebdad\" class=\"plotly-graph-div\" style=\"height:525px; width:100%;\"></div>            <script type=\"text/javascript\">                                    window.PLOTLYENV=window.PLOTLYENV || {};                                    if (document.getElementById(\"49b9c6f5-8760-444d-aa93-29fbdb0ebdad\")) {                    Plotly.newPlot(                        \"49b9c6f5-8760-444d-aa93-29fbdb0ebdad\",                        [{\"hovertemplate\":\"data_aplicacao=%{x}\\u003cbr\\u003eContagem=%{y}\\u003cextra\\u003e\\u003c\\u002fextra\\u003e\",\"legendgroup\":\"\",\"line\":{\"color\":\"#636efa\",\"dash\":\"solid\"},\"marker\":{\"symbol\":\"circle\"},\"mode\":\"lines+markers\",\"name\":\"\",\"orientation\":\"v\",\"showlegend\":false,\"x\":[\"2024-01-31\",\"2024-02-20\",\"2024-02-21\",\"2024-03-21\",\"2024-05-28\",\"2025-01-21\",\"2025-05-11\",\"2025-05-12\",\"2025-10-03\"],\"xaxis\":\"x\",\"y\":[1,1,1,1,1,4,1,1,1],\"yaxis\":\"y\",\"type\":\"scatter\"}],                        {\"template\":{\"data\":{\"histogram2dcontour\":[{\"type\":\"histogram2dcontour\",\"colorbar\":{\"outlinewidth\":0,\"ticks\":\"\"},\"colorscale\":[[0.0,\"#0d0887\"],[0.1111111111111111,\"#46039f\"],[0.2222222222222222,\"#7201a8\"],[0.3333333333333333,\"#9c179e\"],[0.4444444444444444,\"#bd3786\"],[0.5555555555555556,\"#d8576b\"],[0.6666666666666666,\"#ed7953\"],[0.7777777777777778,\"#fb9f3a\"],[0.8888888888888888,\"#fdca26\"],[1.0,\"#f0f921\"]]}],\"choropleth\":[{\"type\":\"choropleth\",\"colorbar\":{\"outlinewidth\":0,\"ticks\":\"\"}}],\"histogram2d\":[{\"type\":\"histogram2d\",\"colorbar\":{\"outlinewidth\":0,\"ticks\":\"\"},\"colorscale\":[[0.0,\"#0d0887\"],[0.1111111111111111,\"#46039f\"],[0.2222222222222222,\"#7201a8\"],[0.3333333333333333,\"#9c179e\"],[0.4444444444444444,\"#bd3786\"],[0.5555555555555556,\"#d8576b\"],[0.6666666666666666,\"#ed7953\"],[0.7777777777777778,\"#fb9f3a\"],[0.8888888888888888,\"#fdca26\"],[1.0,\"#f0f921\"]]}],\"heatmap\":[{\"type\":\"heatmap\",\"colorbar\":{\"outlinewidth\":0,\"ticks\":\"\"},\"colorscale\":[[0.0,\"#0d0887\"],[0.1111111111111111,\"#46039f\"],[0.2222222222222222,\"#7201a8\"],[0.3333333333333333,\"#9c179e\"],[0.4444444444444444,\"#bd3786\"],[0.5555555555555556,\"#d8576b\"],[0.6666666666666666,\"#ed7953\"],[0.7777777777777778,\"#fb9f3a\"],[0.8888888888888888,\"#fdca26\"],[1.0,\"#f0f921\"]]}],\"heatmapgl\":[{\"type\":\"heatmapgl\",\"colorbar\":{\"outlinewidth\":0,\"ticks\":\"\"},\"colorscale\":[[0.0,\"#0d0887\"],[0.1111111111111111,\"#46039f\"],[0.2222222222222222,\"#7201a8\"],[0.3333333333333333,\"#9c179e\"],[0.4444444444444444,\"#bd3786\"],[0.5555555555555556,\"#d8576b\"],[0.6666666666666666,\"#ed7953\"],[0.7777777777777778,\"#fb9f3a\"],[0.8888888888888888,\"#fdca26\"],[1.0,\"#f0f921\"]]}],\"contourcarpet\":[{\"type\":\"contourcarpet\",\"colorbar\":{\"outlinewidth\":0,\"ticks\":\"\"}}],\"contour\":[{\"type\":\"contour\",\"colorbar\":{\"outlinewidth\":0,\"ticks\":\"\"},\"colorscale\":[[0.0,\"#0d0887\"],[0.1111111111111111,\"#46039f\"],[0.2222222222222222,\"#7201a8\"],[0.3333333333333333,\"#9c179e\"],[0.4444444444444444,\"#bd3786\"],[0.5555555555555556,\"#d8576b\"],[0.6666666666666666,\"#ed7953\"],[0.7777777777777778,\"#fb9f3a\"],[0.8888888888888888,\"#fdca26\"],[1.0,\"#f0f921\"]]}],\"surface\":[{\"type\":\"surface\",\"colorbar\":{\"outlinewidth\":0,\"ticks\":\"\"},\"colorscale\":[[0.0,\"#0d0887\"],[0.1111111111111111,\"#46039f\"],[0.2222222222222222,\"#7201a8\"],[0.3333333333333333,\"#9c179e\"],[0.4444444444444444,\"#bd3786\"],[0.5555555555555556,\"#d8576b\"],[0.6666666666666666,\"#ed7953\"],[0.7777777777777778,\"#fb9f3a\"],[0.8888888888888888,\"#fdca26\"],[1.0,\"#f0f921\"]]}],\"mesh3d\":[{\"type\":\"mesh3d\",\"colorbar\":{\"outlinewidth\":0,\"ticks\":\"\"}}],\"scatter\":[{\"fillpattern\":{\"fillmode\":\"overlay\",\"size\":10,\"solidity\":0.2},\"type\":\"scatter\"}],\"parcoords\":[{\"type\":\"parcoords\",\"line\":{\"colorbar\":{\"outlinewidth\":0,\"ticks\":\"\"}}}],\"scatterpolargl\":[{\"type\":\"scatterpolargl\",\"marker\":{\"colorbar\":{\"outlinewidth\":0,\"ticks\":\"\"}}}],\"bar\":[{\"error_x\":{\"color\":\"#2a3f5f\"},\"error_y\":{\"color\":\"#2a3f5f\"},\"marker\":{\"line\":{\"color\":\"#E5ECF6\",\"width\":0.5},\"pattern\":{\"fillmode\":\"overlay\",\"size\":10,\"solidity\":0.2}},\"type\":\"bar\"}],\"scattergeo\":[{\"type\":\"scattergeo\",\"marker\":{\"colorbar\":{\"outlinewidth\":0,\"ticks\":\"\"}}}],\"scatterpolar\":[{\"type\":\"scatterpolar\",\"marker\":{\"colorbar\":{\"outlinewidth\":0,\"ticks\":\"\"}}}],\"histogram\":[{\"marker\":{\"pattern\":{\"fillmode\":\"overlay\",\"size\":10,\"solidity\":0.2}},\"type\":\"histogram\"}],\"scattergl\":[{\"type\":\"scattergl\",\"marker\":{\"colorbar\":{\"outlinewidth\":0,\"ticks\":\"\"}}}],\"scatter3d\":[{\"type\":\"scatter3d\",\"line\":{\"colorbar\":{\"outlinewidth\":0,\"ticks\":\"\"}},\"marker\":{\"colorbar\":{\"outlinewidth\":0,\"ticks\":\"\"}}}],\"scattermapbox\":[{\"type\":\"scattermapbox\",\"marker\":{\"colorbar\":{\"outlinewidth\":0,\"ticks\":\"\"}}}],\"scatterternary\":[{\"type\":\"scatterternary\",\"marker\":{\"colorbar\":{\"outlinewidth\":0,\"ticks\":\"\"}}}],\"scattercarpet\":[{\"type\":\"scattercarpet\",\"marker\":{\"colorbar\":{\"outlinewidth\":0,\"ticks\":\"\"}}}],\"carpet\":[{\"aaxis\":{\"endlinecolor\":\"#2a3f5f\",\"gridcolor\":\"white\",\"linecolor\":\"white\",\"minorgridcolor\":\"white\",\"startlinecolor\":\"#2a3f5f\"},\"baxis\":{\"endlinecolor\":\"#2a3f5f\",\"gridcolor\":\"white\",\"linecolor\":\"white\",\"minorgridcolor\":\"white\",\"startlinecolor\":\"#2a3f5f\"},\"type\":\"carpet\"}],\"table\":[{\"cells\":{\"fill\":{\"color\":\"#EBF0F8\"},\"line\":{\"color\":\"white\"}},\"header\":{\"fill\":{\"color\":\"#C8D4E3\"},\"line\":{\"color\":\"white\"}},\"type\":\"table\"}],\"barpolar\":[{\"marker\":{\"line\":{\"color\":\"#E5ECF6\",\"width\":0.5},\"pattern\":{\"fillmode\":\"overlay\",\"size\":10,\"solidity\":0.2}},\"type\":\"barpolar\"}],\"pie\":[{\"automargin\":true,\"type\":\"pie\"}]},\"layout\":{\"autotypenumbers\":\"strict\",\"colorway\":[\"#636efa\",\"#EF553B\",\"#00cc96\",\"#ab63fa\",\"#FFA15A\",\"#19d3f3\",\"#FF6692\",\"#B6E880\",\"#FF97FF\",\"#FECB52\"],\"font\":{\"color\":\"#2a3f5f\"},\"hovermode\":\"closest\",\"hoverlabel\":{\"align\":\"left\"},\"paper_bgcolor\":\"white\",\"plot_bgcolor\":\"#E5ECF6\",\"polar\":{\"bgcolor\":\"#E5ECF6\",\"angularaxis\":{\"gridcolor\":\"white\",\"linecolor\":\"white\",\"ticks\":\"\"},\"radialaxis\":{\"gridcolor\":\"white\",\"linecolor\":\"white\",\"ticks\":\"\"}},\"ternary\":{\"bgcolor\":\"#E5ECF6\",\"aaxis\":{\"gridcolor\":\"white\",\"linecolor\":\"white\",\"ticks\":\"\"},\"baxis\":{\"gridcolor\":\"white\",\"linecolor\":\"white\",\"ticks\":\"\"},\"caxis\":{\"gridcolor\":\"white\",\"linecolor\":\"white\",\"ticks\":\"\"}},\"coloraxis\":{\"colorbar\":{\"outlinewidth\":0,\"ticks\":\"\"}},\"colorscale\":{\"sequential\":[[0.0,\"#0d0887\"],[0.1111111111111111,\"#46039f\"],[0.2222222222222222,\"#7201a8\"],[0.3333333333333333,\"#9c179e\"],[0.4444444444444444,\"#bd3786\"],[0.5555555555555556,\"#d8576b\"],[0.6666666666666666,\"#ed7953\"],[0.7777777777777778,\"#fb9f3a\"],[0.8888888888888888,\"#fdca26\"],[1.0,\"#f0f921\"]],\"sequentialminus\":[[0.0,\"#0d0887\"],[0.1111111111111111,\"#46039f\"],[0.2222222222222222,\"#7201a8\"],[0.3333333333333333,\"#9c179e\"],[0.4444444444444444,\"#bd3786\"],[0.5555555555555556,\"#d8576b\"],[0.6666666666666666,\"#ed7953\"],[0.7777777777777778,\"#fb9f3a\"],[0.8888888888888888,\"#fdca26\"],[1.0,\"#f0f921\"]],\"diverging\":[[0,\"#8e0152\"],[0.1,\"#c51b7d\"],[0.2,\"#de77ae\"],[0.3,\"#f1b6da\"],[0.4,\"#fde0ef\"],[0.5,\"#f7f7f7\"],[0.6,\"#e6f5d0\"],[0.7,\"#b8e186\"],[0.8,\"#7fbc41\"],[0.9,\"#4d9221\"],[1,\"#276419\"]]},\"xaxis\":{\"gridcolor\":\"white\",\"linecolor\":\"white\",\"ticks\":\"\",\"title\":{\"standoff\":15},\"zerolinecolor\":\"white\",\"automargin\":true,\"zerolinewidth\":2},\"yaxis\":{\"gridcolor\":\"white\",\"linecolor\":\"white\",\"ticks\":\"\",\"title\":{\"standoff\":15},\"zerolinecolor\":\"white\",\"automargin\":true,\"zerolinewidth\":2},\"scene\":{\"xaxis\":{\"backgroundcolor\":\"#E5ECF6\",\"gridcolor\":\"white\",\"linecolor\":\"white\",\"showbackground\":true,\"ticks\":\"\",\"zerolinecolor\":\"white\",\"gridwidth\":2},\"yaxis\":{\"backgroundcolor\":\"#E5ECF6\",\"gridcolor\":\"white\",\"linecolor\":\"white\",\"showbackground\":true,\"ticks\":\"\",\"zerolinecolor\":\"white\",\"gridwidth\":2},\"zaxis\":{\"backgroundcolor\":\"#E5ECF6\",\"gridcolor\":\"white\",\"linecolor\":\"white\",\"showbackground\":true,\"ticks\":\"\",\"zerolinecolor\":\"white\",\"gridwidth\":2}},\"shapedefaults\":{\"line\":{\"color\":\"#2a3f5f\"}},\"annotationdefaults\":{\"arrowcolor\":\"#2a3f5f\",\"arrowhead\":0,\"arrowwidth\":1},\"geo\":{\"bgcolor\":\"white\",\"landcolor\":\"#E5ECF6\",\"subunitcolor\":\"white\",\"showland\":true,\"showlakes\":true,\"lakecolor\":\"white\"},\"title\":{\"x\":0.05},\"mapbox\":{\"style\":\"light\"}}},\"xaxis\":{\"anchor\":\"y\",\"domain\":[0.0,1.0],\"title\":{\"text\":\"data_aplicacao\"}},\"yaxis\":{\"anchor\":\"x\",\"domain\":[0.0,1.0],\"title\":{\"text\":\"Contagem\"}},\"legend\":{\"tracegroupgap\":0},\"title\":{\"text\":\"Candidaturas ao Longo do Tempo\"}},                        {\"responsive\": true}                    ).then(function(){\n",
              "                            \n",
              "var gd = document.getElementById('49b9c6f5-8760-444d-aa93-29fbdb0ebdad');\n",
              "var x = new MutationObserver(function (mutations, observer) {{\n",
              "        var display = window.getComputedStyle(gd).display;\n",
              "        if (!display || display === 'none') {{\n",
              "            console.log([gd, 'removed!']);\n",
              "            Plotly.purge(gd);\n",
              "            observer.disconnect();\n",
              "        }}\n",
              "}});\n",
              "\n",
              "// Listen for the removal of the full notebook cells\n",
              "var notebookContainer = gd.closest('#notebook-container');\n",
              "if (notebookContainer) {{\n",
              "    x.observe(notebookContainer, {childList: true});\n",
              "}}\n",
              "\n",
              "// Listen for the clearing of the current output cell\n",
              "var outputEl = gd.closest('.output');\n",
              "if (outputEl) {{\n",
              "    x.observe(outputEl, {childList: true});\n",
              "}}\n",
              "\n",
              "                        })                };                            </script>        </div>\n",
              "</body>\n",
              "</html>"
            ]
          },
          "metadata": {}
        }
      ]
    },
    {
      "cell_type": "markdown",
      "source": [
        "### 2️⃣ Análise de Respostas de Triagem\n",
        "\n",
        "Arquivo: Job Applicant Saved Screening Question Responses.csv\n",
        "\n",
        "Desafio:\n",
        "- Extraia as perguntas de triagem mais frequentes.\n",
        "- Classifique respostas por sentimento (positivo, neutro, negativo).\n",
        "\n",
        "- Gere uma nuvem de palavras e um gráfico de dispersão entre o tamanho das respostas e o sentimento médio."
      ],
      "metadata": {
        "id": "i_Rlqiy4JwRG"
      }
    },
    {
      "cell_type": "markdown",
      "source": [
        "## Carregar Dados do Exercício 2"
      ],
      "metadata": {
        "id": "qXB0K5X9KIFA"
      }
    },
    {
      "cell_type": "code",
      "source": [
        "# Carregar o segundo arquivo. O separador também é ponto e vírgula (;)\n",
        "try:\n",
        "    df_respostas = pd.read_csv('Job Applicant Saved Screening Question Responses_fake.csv', sep=';')\n",
        "    print(\"Arquivo 'Job Applicant Saved Screening Question Responses.csv' carregado com sucesso!\")\n",
        "    print(df_respostas.head())\n",
        "\n",
        "except FileNotFoundError:\n",
        "    print(\"ERRO: 'Job Applicant Saved Screening Question Responses_fake.csv' não encontrado. Faça o upload.\")\n",
        "except Exception as e:\n",
        "    print(f\"Ocorreu um erro: {e}\")"
      ],
      "metadata": {
        "colab": {
          "base_uri": "https://localhost:8080/"
        },
        "id": "zdqWcuhwKKOO",
        "outputId": "fa21a5df-1c16-415d-ede5-f1b83c26b8c1"
      },
      "execution_count": 24,
      "outputs": [
        {
          "output_type": "stream",
          "name": "stdout",
          "text": [
            "ERRO: 'Job Applicant Saved Screening Question Responses_fake.csv' não encontrado. Faça o upload.\n"
          ]
        }
      ]
    },
    {
      "cell_type": "markdown",
      "source": [
        "## Extrair Perguntas Mais Frequentes"
      ],
      "metadata": {
        "id": "m_42pjQ-Kcer"
      }
    },
    {
      "cell_type": "code",
      "source": [
        "if 'df_respostas' in locals():\n",
        "    print(\"[2.1] Perguntas de triagem mais frequentes:\")\n",
        "\n",
        "    # Contar as perguntas mais comuns\n",
        "    perguntas_frequentes = df_respostas['question'].value_counts()\n",
        "\n",
        "    # Mostrar as 10 mais frequentes\n",
        "    print(perguntas_frequentes.head(10).to_string())\n",
        "else:\n",
        "    print(\"DataFrame 'df_respostas' não foi carregado. Execute a Célula 2.1 primeiro.\")"
      ],
      "metadata": {
        "colab": {
          "base_uri": "https://localhost:8080/"
        },
        "id": "05ri5JbSKfA1",
        "outputId": "bfd5974e-2a96-45ea-ab01-efad62bd406e"
      },
      "execution_count": 25,
      "outputs": [
        {
          "output_type": "stream",
          "name": "stdout",
          "text": [
            "DataFrame 'df_respostas' não foi carregado. Execute a Célula 2.1 primeiro.\n"
          ]
        }
      ]
    },
    {
      "cell_type": "markdown",
      "source": [
        "## Classificar Respostas por Sentimento"
      ],
      "metadata": {
        "id": "xezvRP9CKnDi"
      }
    },
    {
      "cell_type": "code",
      "source": [
        "if 'df_respostas' in locals():\n",
        "    print(\"[2.2] Classificação de respostas por sentimento:\")\n",
        "\n",
        "    # O arquivo fake que você forneceu já possui a coluna 'inferred_sentiment'.\n",
        "    # Vamos usá-la para a contagem.\n",
        "    if 'inferred_sentiment' in df_respostas.columns:\n",
        "        contagem_sentimento = df_respostas['inferred_sentiment'].value_counts()\n",
        "\n",
        "        print(contagem_sentimento)\n",
        "\n",
        "        # BÔNUS: Gráfico de Pizza (simples e visual)\n",
        "        fig_pie = px.pie(\n",
        "            contagem_sentimento.reset_index(),\n",
        "            names='inferred_sentiment',\n",
        "            values='count',\n",
        "            title='Distribuição de Sentimentos nas Respostas'\n",
        "        )\n",
        "        fig_pie.show()\n",
        "\n",
        "    else:\n",
        "        print(\"Coluna 'inferred_sentiment' não encontrada.\")\n",
        "        print(\"Se fosse o arquivo real, você precisaria criar uma função de sentimento aqui.\")\n",
        "else:\n",
        "    print(\"DataFrame 'df_respostas' não foi carregado. Execute a Célula 2.1 primeiro.\")"
      ],
      "metadata": {
        "colab": {
          "base_uri": "https://localhost:8080/"
        },
        "id": "iZypyOLqKpaS",
        "outputId": "5183b8d7-5f71-4741-d4e0-dfe0c8badb81"
      },
      "execution_count": 26,
      "outputs": [
        {
          "output_type": "stream",
          "name": "stdout",
          "text": [
            "DataFrame 'df_respostas' não foi carregado. Execute a Célula 2.1 primeiro.\n"
          ]
        }
      ]
    },
    {
      "cell_type": "markdown",
      "source": [
        "## Gerar Nuvem de Palavras"
      ],
      "metadata": {
        "id": "cQZe5n0wK6Ys"
      }
    },
    {
      "cell_type": "code",
      "source": [
        "from wordcloud import WordCloud\n",
        "import matplotlib.pyplot as plt\n",
        "\n",
        "if 'df_respostas' in locals():\n",
        "    print(\"[2.3] Gerando nuvem de palavras das PERGUNTAS:\")\n",
        "\n",
        "    # Juntar todas as perguntas em um único bloco de texto\n",
        "    texto_perguntas = \" \".join(df_respostas['question'].dropna())\n",
        "\n",
        "    # Gerar a nuvem de palavras\n",
        "    wordcloud = WordCloud(\n",
        "        width=1000,\n",
        "        height=500,\n",
        "        background_color='white',\n",
        "        collocations=False # Evita palavras compostas\n",
        "    ).generate(texto_perguntas)\n",
        "\n",
        "    # Exibir a nuvem usando Matplotlib (é o jeito mais simples)\n",
        "    plt.figure(figsize=(10, 5))\n",
        "    plt.imshow(wordcloud, interpolation='bilinear')\n",
        "    plt.axis('off') # Remove os eixos X e Y\n",
        "    plt.show()\n",
        "\n",
        "else:\n",
        "    print(\"DataFrame 'df_respostas' não foi carregado. Execute a Célula 2.1 primeiro.\")"
      ],
      "metadata": {
        "colab": {
          "base_uri": "https://localhost:8080/"
        },
        "id": "hXA67M2HK_xL",
        "outputId": "8edc8b1f-3269-41b1-d494-c52d16ae6b2a"
      },
      "execution_count": 27,
      "outputs": [
        {
          "output_type": "stream",
          "name": "stdout",
          "text": [
            "DataFrame 'df_respostas' não foi carregado. Execute a Célula 2.1 primeiro.\n"
          ]
        }
      ]
    },
    {
      "cell_type": "markdown",
      "source": [
        "## Gráfico de Dispersão (Tamanho vs. Sentimento)"
      ],
      "metadata": {
        "id": "XRZf1Db3LHC6"
      }
    },
    {
      "cell_type": "code",
      "source": [
        "if 'df_respostas' in locals() and 'inferred_sentiment' in df_respostas.columns:\n",
        "    print(\"[2.4] Gerando gráfico de dispersão (Tamanho da Resposta vs. Sentimento):\")\n",
        "\n",
        "    # 1. Calcular o tamanho (número de caracteres) de cada resposta\n",
        "    df_respostas['tamanho_resposta'] = df_respostas['response'].astype(str).str.len()\n",
        "\n",
        "    # 2. Mapear o sentimento (texto) para um número (para o eixo Y)\n",
        "    #    Isso torna o gráfico mais fácil de ler\n",
        "    sentiment_map = {'positive': 1, 'neutral': 0, 'negative': -1}\n",
        "    df_respostas['score_sentimento'] = df_respostas['inferred_sentiment'].map(sentiment_map)\n",
        "\n",
        "    # 3. Criar o gráfico de dispersão (scatter plot) com Plotly Express\n",
        "    fig_scatter = px.scatter(\n",
        "        df_respostas.dropna(subset=['score_sentimento']), # Ignora sentimentos não mapeados\n",
        "        x='tamanho_resposta',\n",
        "        y='score_sentimento',\n",
        "        color='inferred_sentiment', # Cor de acordo com o sentimento\n",
        "        title='Tamanho da Resposta vs. Sentimento',\n",
        "        hover_data=['question', 'response'] # Mostra a pergunta/resposta ao passar o mouse\n",
        "    )\n",
        "\n",
        "    # Ajustar o eixo Y para mostrar -1, 0, 1\n",
        "    fig_scatter.update_layout(yaxis=dict(tickmode='array', tickvals=[-1, 0, 1], ticktext=['Negativo', 'Neutro', 'Positivo']))\n",
        "\n",
        "    fig_scatter.show()\n",
        "\n",
        "else:\n",
        "    print(\"DataFrame 'df_respostas' ou coluna 'inferred_sentiment' não encontrados. Execute as Células 2.1 e 2.3 primeiro.\")"
      ],
      "metadata": {
        "colab": {
          "base_uri": "https://localhost:8080/"
        },
        "id": "i-cGNWY5LK3F",
        "outputId": "bb8a983b-5394-44e1-f6a1-318f71e385b1"
      },
      "execution_count": 28,
      "outputs": [
        {
          "output_type": "stream",
          "name": "stdout",
          "text": [
            "DataFrame 'df_respostas' ou coluna 'inferred_sentiment' não encontrados. Execute as Células 2.1 e 2.3 primeiro.\n"
          ]
        }
      ]
    }
  ]
}