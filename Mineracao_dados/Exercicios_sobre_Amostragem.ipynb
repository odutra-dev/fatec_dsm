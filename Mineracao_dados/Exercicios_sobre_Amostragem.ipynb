{
  "nbformat": 4,
  "nbformat_minor": 0,
  "metadata": {
    "colab": {
      "provenance": []
    },
    "kernelspec": {
      "name": "python3",
      "display_name": "Python 3"
    },
    "language_info": {
      "name": "python"
    }
  },
  "cells": [
    {
      "cell_type": "markdown",
      "source": [
        "#1. Amostragem Aleatória Simples\n",
        "\n",
        "Crie uma lista de 100 nomes simulados (por exemplo: Pessoa1, Pessoa2, ..., Pessoa100) e use a biblioteca `random` ou `numpy` para selecionar uma amostra aleatória simples de 10 pessoas."
      ],
      "metadata": {
        "id": "L1cHYeGIeUPe"
      }
    },
    {
      "cell_type": "code",
      "execution_count": 129,
      "metadata": {
        "colab": {
          "base_uri": "https://localhost:8080/"
        },
        "id": "gSvAD3COeOGE",
        "outputId": "bea00fad-8968-4bea-c849-1357b4d674ff"
      },
      "outputs": [
        {
          "output_type": "stream",
          "name": "stdout",
          "text": [
            "['Pessoa 0', 'Pessoa 1', 'Pessoa 2', 'Pessoa 3', 'Pessoa 4', 'Pessoa 5', 'Pessoa 6', 'Pessoa 7', 'Pessoa 8', 'Pessoa 9', 'Pessoa 10', 'Pessoa 11', 'Pessoa 12', 'Pessoa 13', 'Pessoa 14', 'Pessoa 15', 'Pessoa 16', 'Pessoa 17', 'Pessoa 18', 'Pessoa 19', 'Pessoa 20', 'Pessoa 21', 'Pessoa 22', 'Pessoa 23', 'Pessoa 24', 'Pessoa 25', 'Pessoa 26', 'Pessoa 27', 'Pessoa 28', 'Pessoa 29', 'Pessoa 30', 'Pessoa 31', 'Pessoa 32', 'Pessoa 33', 'Pessoa 34', 'Pessoa 35', 'Pessoa 36', 'Pessoa 37', 'Pessoa 38', 'Pessoa 39', 'Pessoa 40', 'Pessoa 41', 'Pessoa 42', 'Pessoa 43', 'Pessoa 44', 'Pessoa 45', 'Pessoa 46', 'Pessoa 47', 'Pessoa 48', 'Pessoa 49', 'Pessoa 50', 'Pessoa 51', 'Pessoa 52', 'Pessoa 53', 'Pessoa 54', 'Pessoa 55', 'Pessoa 56', 'Pessoa 57', 'Pessoa 58', 'Pessoa 59', 'Pessoa 60', 'Pessoa 61', 'Pessoa 62', 'Pessoa 63', 'Pessoa 64', 'Pessoa 65', 'Pessoa 66', 'Pessoa 67', 'Pessoa 68', 'Pessoa 69', 'Pessoa 70', 'Pessoa 71', 'Pessoa 72', 'Pessoa 73', 'Pessoa 74', 'Pessoa 75', 'Pessoa 76', 'Pessoa 77', 'Pessoa 78', 'Pessoa 79', 'Pessoa 80', 'Pessoa 81', 'Pessoa 82', 'Pessoa 83', 'Pessoa 84', 'Pessoa 85', 'Pessoa 86', 'Pessoa 87', 'Pessoa 88', 'Pessoa 89', 'Pessoa 90', 'Pessoa 91', 'Pessoa 92', 'Pessoa 93', 'Pessoa 94', 'Pessoa 95', 'Pessoa 96', 'Pessoa 97', 'Pessoa 98', 'Pessoa 99']\n"
          ]
        }
      ],
      "source": [
        "# importação de bibliotecas pandas (para carregar csv) e numpy (para gerar dados aleatórios)\n",
        "import pandas as pd\n",
        "import numpy as np\n",
        "import random\n",
        "\n",
        "populacao = []\n",
        "\n",
        "# Criando lista Aleatória\n",
        "for i in range(100):\n",
        "  populacao.append(f'Pessoa {i}')\n",
        "\n",
        "print(populacao)"
      ]
    },
    {
      "cell_type": "code",
      "source": [
        "len(populacao)"
      ],
      "metadata": {
        "colab": {
          "base_uri": "https://localhost:8080/"
        },
        "id": "1IJ8Sts1e9Aa",
        "outputId": "e72266d7-679b-4842-994a-57d6abb3ffd7"
      },
      "execution_count": 130,
      "outputs": [
        {
          "output_type": "execute_result",
          "data": {
            "text/plain": [
              "100"
            ]
          },
          "metadata": {},
          "execution_count": 130
        }
      ]
    },
    {
      "cell_type": "code",
      "source": [
        "# Mudança da semente aleatória randômica para manter os resultados em várias execuções\n",
        "np.random.seed(42)\n",
        "\n",
        "# 10 amostras, de pessoas, probabilidades equivalentes\n",
        "amostra = np.random.choice(a=[0,1], size=10, replace=True, p=[0.7, 0.3])\n",
        "\n",
        "print(amostra)"
      ],
      "metadata": {
        "colab": {
          "base_uri": "https://localhost:8080/"
        },
        "id": "2EZTtwlEfBSC",
        "outputId": "684ac328-6360-4f02-ab2c-6a0868d4c5a8"
      },
      "execution_count": 131,
      "outputs": [
        {
          "output_type": "stream",
          "name": "stdout",
          "text": [
            "[0 1 1 0 0 0 0 1 0 1]\n"
          ]
        }
      ]
    },
    {
      "cell_type": "markdown",
      "source": [
        "#2. Amostragem Estratificada\n",
        "\n",
        "Dado um DataFrame com duas colunas: 'nome' e 'categoria' (valores: A, B, C), com 60 registros (20 de cada categoria), utilize `train_test_split` do `sklearn` para selecionar 50% de amostra estratificada."
      ],
      "metadata": {
        "id": "HSCMTys9iF_l"
      }
    },
    {
      "cell_type": "code",
      "source": [
        "from sklearn.model_selection import train_test_split\n",
        "\n",
        "# Gerar nomes\n",
        "nomes = [f'Pessoa {i}' for i in range(1, 61)]\n",
        "\n",
        "# Gerar categorias balanceadas\n",
        "categorias = ['A'] * 20 + ['B'] * 20 + ['C'] * 20\n",
        "random.shuffle(categorias)  # Embaralhar para aleatoriedade\n",
        "\n",
        "# Criar DataFrame\n",
        "base_teste = pd.DataFrame({'nome': nomes, 'categoria': categorias})\n",
        "\n",
        "base_teste.describe()"
      ],
      "metadata": {
        "colab": {
          "base_uri": "https://localhost:8080/",
          "height": 175
        },
        "id": "OJw06VWGibh_",
        "outputId": "cd784e9d-3af7-4a18-a230-17c22d38bdbe"
      },
      "execution_count": 132,
      "outputs": [
        {
          "output_type": "execute_result",
          "data": {
            "text/plain": [
              "            nome categoria\n",
              "count         60        60\n",
              "unique        60         3\n",
              "top     Pessoa 1         C\n",
              "freq           1        20"
            ],
            "text/html": [
              "\n",
              "  <div id=\"df-79e2db49-8190-4f13-9ff8-7b724f1281c8\" class=\"colab-df-container\">\n",
              "    <div>\n",
              "<style scoped>\n",
              "    .dataframe tbody tr th:only-of-type {\n",
              "        vertical-align: middle;\n",
              "    }\n",
              "\n",
              "    .dataframe tbody tr th {\n",
              "        vertical-align: top;\n",
              "    }\n",
              "\n",
              "    .dataframe thead th {\n",
              "        text-align: right;\n",
              "    }\n",
              "</style>\n",
              "<table border=\"1\" class=\"dataframe\">\n",
              "  <thead>\n",
              "    <tr style=\"text-align: right;\">\n",
              "      <th></th>\n",
              "      <th>nome</th>\n",
              "      <th>categoria</th>\n",
              "    </tr>\n",
              "  </thead>\n",
              "  <tbody>\n",
              "    <tr>\n",
              "      <th>count</th>\n",
              "      <td>60</td>\n",
              "      <td>60</td>\n",
              "    </tr>\n",
              "    <tr>\n",
              "      <th>unique</th>\n",
              "      <td>60</td>\n",
              "      <td>3</td>\n",
              "    </tr>\n",
              "    <tr>\n",
              "      <th>top</th>\n",
              "      <td>Pessoa 1</td>\n",
              "      <td>C</td>\n",
              "    </tr>\n",
              "    <tr>\n",
              "      <th>freq</th>\n",
              "      <td>1</td>\n",
              "      <td>20</td>\n",
              "    </tr>\n",
              "  </tbody>\n",
              "</table>\n",
              "</div>\n",
              "    <div class=\"colab-df-buttons\">\n",
              "\n",
              "  <div class=\"colab-df-container\">\n",
              "    <button class=\"colab-df-convert\" onclick=\"convertToInteractive('df-79e2db49-8190-4f13-9ff8-7b724f1281c8')\"\n",
              "            title=\"Convert this dataframe to an interactive table.\"\n",
              "            style=\"display:none;\">\n",
              "\n",
              "  <svg xmlns=\"http://www.w3.org/2000/svg\" height=\"24px\" viewBox=\"0 -960 960 960\">\n",
              "    <path d=\"M120-120v-720h720v720H120Zm60-500h600v-160H180v160Zm220 220h160v-160H400v160Zm0 220h160v-160H400v160ZM180-400h160v-160H180v160Zm440 0h160v-160H620v160ZM180-180h160v-160H180v160Zm440 0h160v-160H620v160Z\"/>\n",
              "  </svg>\n",
              "    </button>\n",
              "\n",
              "  <style>\n",
              "    .colab-df-container {\n",
              "      display:flex;\n",
              "      gap: 12px;\n",
              "    }\n",
              "\n",
              "    .colab-df-convert {\n",
              "      background-color: #E8F0FE;\n",
              "      border: none;\n",
              "      border-radius: 50%;\n",
              "      cursor: pointer;\n",
              "      display: none;\n",
              "      fill: #1967D2;\n",
              "      height: 32px;\n",
              "      padding: 0 0 0 0;\n",
              "      width: 32px;\n",
              "    }\n",
              "\n",
              "    .colab-df-convert:hover {\n",
              "      background-color: #E2EBFA;\n",
              "      box-shadow: 0px 1px 2px rgba(60, 64, 67, 0.3), 0px 1px 3px 1px rgba(60, 64, 67, 0.15);\n",
              "      fill: #174EA6;\n",
              "    }\n",
              "\n",
              "    .colab-df-buttons div {\n",
              "      margin-bottom: 4px;\n",
              "    }\n",
              "\n",
              "    [theme=dark] .colab-df-convert {\n",
              "      background-color: #3B4455;\n",
              "      fill: #D2E3FC;\n",
              "    }\n",
              "\n",
              "    [theme=dark] .colab-df-convert:hover {\n",
              "      background-color: #434B5C;\n",
              "      box-shadow: 0px 1px 3px 1px rgba(0, 0, 0, 0.15);\n",
              "      filter: drop-shadow(0px 1px 2px rgba(0, 0, 0, 0.3));\n",
              "      fill: #FFFFFF;\n",
              "    }\n",
              "  </style>\n",
              "\n",
              "    <script>\n",
              "      const buttonEl =\n",
              "        document.querySelector('#df-79e2db49-8190-4f13-9ff8-7b724f1281c8 button.colab-df-convert');\n",
              "      buttonEl.style.display =\n",
              "        google.colab.kernel.accessAllowed ? 'block' : 'none';\n",
              "\n",
              "      async function convertToInteractive(key) {\n",
              "        const element = document.querySelector('#df-79e2db49-8190-4f13-9ff8-7b724f1281c8');\n",
              "        const dataTable =\n",
              "          await google.colab.kernel.invokeFunction('convertToInteractive',\n",
              "                                                    [key], {});\n",
              "        if (!dataTable) return;\n",
              "\n",
              "        const docLinkHtml = 'Like what you see? Visit the ' +\n",
              "          '<a target=\"_blank\" href=https://colab.research.google.com/notebooks/data_table.ipynb>data table notebook</a>'\n",
              "          + ' to learn more about interactive tables.';\n",
              "        element.innerHTML = '';\n",
              "        dataTable['output_type'] = 'display_data';\n",
              "        await google.colab.output.renderOutput(dataTable, element);\n",
              "        const docLink = document.createElement('div');\n",
              "        docLink.innerHTML = docLinkHtml;\n",
              "        element.appendChild(docLink);\n",
              "      }\n",
              "    </script>\n",
              "  </div>\n",
              "\n",
              "\n",
              "    <div id=\"df-176363ea-25ff-4f18-92a8-23333b1bbaf9\">\n",
              "      <button class=\"colab-df-quickchart\" onclick=\"quickchart('df-176363ea-25ff-4f18-92a8-23333b1bbaf9')\"\n",
              "                title=\"Suggest charts\"\n",
              "                style=\"display:none;\">\n",
              "\n",
              "<svg xmlns=\"http://www.w3.org/2000/svg\" height=\"24px\"viewBox=\"0 0 24 24\"\n",
              "     width=\"24px\">\n",
              "    <g>\n",
              "        <path d=\"M19 3H5c-1.1 0-2 .9-2 2v14c0 1.1.9 2 2 2h14c1.1 0 2-.9 2-2V5c0-1.1-.9-2-2-2zM9 17H7v-7h2v7zm4 0h-2V7h2v10zm4 0h-2v-4h2v4z\"/>\n",
              "    </g>\n",
              "</svg>\n",
              "      </button>\n",
              "\n",
              "<style>\n",
              "  .colab-df-quickchart {\n",
              "      --bg-color: #E8F0FE;\n",
              "      --fill-color: #1967D2;\n",
              "      --hover-bg-color: #E2EBFA;\n",
              "      --hover-fill-color: #174EA6;\n",
              "      --disabled-fill-color: #AAA;\n",
              "      --disabled-bg-color: #DDD;\n",
              "  }\n",
              "\n",
              "  [theme=dark] .colab-df-quickchart {\n",
              "      --bg-color: #3B4455;\n",
              "      --fill-color: #D2E3FC;\n",
              "      --hover-bg-color: #434B5C;\n",
              "      --hover-fill-color: #FFFFFF;\n",
              "      --disabled-bg-color: #3B4455;\n",
              "      --disabled-fill-color: #666;\n",
              "  }\n",
              "\n",
              "  .colab-df-quickchart {\n",
              "    background-color: var(--bg-color);\n",
              "    border: none;\n",
              "    border-radius: 50%;\n",
              "    cursor: pointer;\n",
              "    display: none;\n",
              "    fill: var(--fill-color);\n",
              "    height: 32px;\n",
              "    padding: 0;\n",
              "    width: 32px;\n",
              "  }\n",
              "\n",
              "  .colab-df-quickchart:hover {\n",
              "    background-color: var(--hover-bg-color);\n",
              "    box-shadow: 0 1px 2px rgba(60, 64, 67, 0.3), 0 1px 3px 1px rgba(60, 64, 67, 0.15);\n",
              "    fill: var(--button-hover-fill-color);\n",
              "  }\n",
              "\n",
              "  .colab-df-quickchart-complete:disabled,\n",
              "  .colab-df-quickchart-complete:disabled:hover {\n",
              "    background-color: var(--disabled-bg-color);\n",
              "    fill: var(--disabled-fill-color);\n",
              "    box-shadow: none;\n",
              "  }\n",
              "\n",
              "  .colab-df-spinner {\n",
              "    border: 2px solid var(--fill-color);\n",
              "    border-color: transparent;\n",
              "    border-bottom-color: var(--fill-color);\n",
              "    animation:\n",
              "      spin 1s steps(1) infinite;\n",
              "  }\n",
              "\n",
              "  @keyframes spin {\n",
              "    0% {\n",
              "      border-color: transparent;\n",
              "      border-bottom-color: var(--fill-color);\n",
              "      border-left-color: var(--fill-color);\n",
              "    }\n",
              "    20% {\n",
              "      border-color: transparent;\n",
              "      border-left-color: var(--fill-color);\n",
              "      border-top-color: var(--fill-color);\n",
              "    }\n",
              "    30% {\n",
              "      border-color: transparent;\n",
              "      border-left-color: var(--fill-color);\n",
              "      border-top-color: var(--fill-color);\n",
              "      border-right-color: var(--fill-color);\n",
              "    }\n",
              "    40% {\n",
              "      border-color: transparent;\n",
              "      border-right-color: var(--fill-color);\n",
              "      border-top-color: var(--fill-color);\n",
              "    }\n",
              "    60% {\n",
              "      border-color: transparent;\n",
              "      border-right-color: var(--fill-color);\n",
              "    }\n",
              "    80% {\n",
              "      border-color: transparent;\n",
              "      border-right-color: var(--fill-color);\n",
              "      border-bottom-color: var(--fill-color);\n",
              "    }\n",
              "    90% {\n",
              "      border-color: transparent;\n",
              "      border-bottom-color: var(--fill-color);\n",
              "    }\n",
              "  }\n",
              "</style>\n",
              "\n",
              "      <script>\n",
              "        async function quickchart(key) {\n",
              "          const quickchartButtonEl =\n",
              "            document.querySelector('#' + key + ' button');\n",
              "          quickchartButtonEl.disabled = true;  // To prevent multiple clicks.\n",
              "          quickchartButtonEl.classList.add('colab-df-spinner');\n",
              "          try {\n",
              "            const charts = await google.colab.kernel.invokeFunction(\n",
              "                'suggestCharts', [key], {});\n",
              "          } catch (error) {\n",
              "            console.error('Error during call to suggestCharts:', error);\n",
              "          }\n",
              "          quickchartButtonEl.classList.remove('colab-df-spinner');\n",
              "          quickchartButtonEl.classList.add('colab-df-quickchart-complete');\n",
              "        }\n",
              "        (() => {\n",
              "          let quickchartButtonEl =\n",
              "            document.querySelector('#df-176363ea-25ff-4f18-92a8-23333b1bbaf9 button');\n",
              "          quickchartButtonEl.style.display =\n",
              "            google.colab.kernel.accessAllowed ? 'block' : 'none';\n",
              "        })();\n",
              "      </script>\n",
              "    </div>\n",
              "\n",
              "    </div>\n",
              "  </div>\n"
            ],
            "application/vnd.google.colaboratory.intrinsic+json": {
              "type": "dataframe",
              "summary": "{\n  \"name\": \"base_teste\",\n  \"rows\": 4,\n  \"fields\": [\n    {\n      \"column\": \"nome\",\n      \"properties\": {\n        \"dtype\": \"string\",\n        \"num_unique_values\": 3,\n        \"samples\": [\n          \"60\",\n          \"Pessoa 1\",\n          \"1\"\n        ],\n        \"semantic_type\": \"\",\n        \"description\": \"\"\n      }\n    },\n    {\n      \"column\": \"categoria\",\n      \"properties\": {\n        \"dtype\": \"string\",\n        \"num_unique_values\": 4,\n        \"samples\": [\n          3,\n          \"20\",\n          \"60\"\n        ],\n        \"semantic_type\": \"\",\n        \"description\": \"\"\n      }\n    }\n  ]\n}"
            }
          },
          "metadata": {},
          "execution_count": 132
        }
      ]
    },
    {
      "cell_type": "code",
      "source": [
        "# Contagem de quantos registros existem por classe\n",
        "base_teste['categoria'].value_counts()"
      ],
      "metadata": {
        "colab": {
          "base_uri": "https://localhost:8080/",
          "height": 210
        },
        "id": "cx-wPpG1kJSi",
        "outputId": "046986f0-637e-42d0-d9ed-d28be6a0ca4a"
      },
      "execution_count": 133,
      "outputs": [
        {
          "output_type": "execute_result",
          "data": {
            "text/plain": [
              "categoria\n",
              "C    20\n",
              "A    20\n",
              "B    20\n",
              "Name: count, dtype: int64"
            ],
            "text/html": [
              "<div>\n",
              "<style scoped>\n",
              "    .dataframe tbody tr th:only-of-type {\n",
              "        vertical-align: middle;\n",
              "    }\n",
              "\n",
              "    .dataframe tbody tr th {\n",
              "        vertical-align: top;\n",
              "    }\n",
              "\n",
              "    .dataframe thead th {\n",
              "        text-align: right;\n",
              "    }\n",
              "</style>\n",
              "<table border=\"1\" class=\"dataframe\">\n",
              "  <thead>\n",
              "    <tr style=\"text-align: right;\">\n",
              "      <th></th>\n",
              "      <th>count</th>\n",
              "    </tr>\n",
              "    <tr>\n",
              "      <th>categoria</th>\n",
              "      <th></th>\n",
              "    </tr>\n",
              "  </thead>\n",
              "  <tbody>\n",
              "    <tr>\n",
              "      <th>C</th>\n",
              "      <td>20</td>\n",
              "    </tr>\n",
              "    <tr>\n",
              "      <th>A</th>\n",
              "      <td>20</td>\n",
              "    </tr>\n",
              "    <tr>\n",
              "      <th>B</th>\n",
              "      <td>20</td>\n",
              "    </tr>\n",
              "  </tbody>\n",
              "</table>\n",
              "</div><br><label><b>dtype:</b> int64</label>"
            ]
          },
          "metadata": {},
          "execution_count": 133
        }
      ]
    },
    {
      "cell_type": "code",
      "source": [
        "# Realiza a divisão dos dados em duas partes (com 50% dos dados cada), mantendo a proporção das classes da variável 'categoria' (stratify).\n",
        "# Apenas os dados de entrada (X) e os rótulos (y) da primeira metade são utilizados; a outra metade é descartada (usando '_').\n",
        "# Em seguida, exibe a contagem de cada classe presente no conjunto y para verificar o balanceamento após o split.\n",
        "X, _, y, _ = train_test_split(base_teste.iloc[:, 0], base_teste.iloc[:, 1],\n",
        "                              test_size = 0.5, stratify = base_teste.iloc[:,1])\n",
        "y.value_counts()"
      ],
      "metadata": {
        "colab": {
          "base_uri": "https://localhost:8080/",
          "height": 210
        },
        "id": "0Pt-k_lTkdDE",
        "outputId": "0b088647-b1ab-4b96-b390-8d233a16e36e"
      },
      "execution_count": 134,
      "outputs": [
        {
          "output_type": "execute_result",
          "data": {
            "text/plain": [
              "categoria\n",
              "C    10\n",
              "B    10\n",
              "A    10\n",
              "Name: count, dtype: int64"
            ],
            "text/html": [
              "<div>\n",
              "<style scoped>\n",
              "    .dataframe tbody tr th:only-of-type {\n",
              "        vertical-align: middle;\n",
              "    }\n",
              "\n",
              "    .dataframe tbody tr th {\n",
              "        vertical-align: top;\n",
              "    }\n",
              "\n",
              "    .dataframe thead th {\n",
              "        text-align: right;\n",
              "    }\n",
              "</style>\n",
              "<table border=\"1\" class=\"dataframe\">\n",
              "  <thead>\n",
              "    <tr style=\"text-align: right;\">\n",
              "      <th></th>\n",
              "      <th>count</th>\n",
              "    </tr>\n",
              "    <tr>\n",
              "      <th>categoria</th>\n",
              "      <th></th>\n",
              "    </tr>\n",
              "  </thead>\n",
              "  <tbody>\n",
              "    <tr>\n",
              "      <th>C</th>\n",
              "      <td>10</td>\n",
              "    </tr>\n",
              "    <tr>\n",
              "      <th>B</th>\n",
              "      <td>10</td>\n",
              "    </tr>\n",
              "    <tr>\n",
              "      <th>A</th>\n",
              "      <td>10</td>\n",
              "    </tr>\n",
              "  </tbody>\n",
              "</table>\n",
              "</div><br><label><b>dtype:</b> int64</label>"
            ]
          },
          "metadata": {},
          "execution_count": 134
        }
      ]
    },
    {
      "cell_type": "markdown",
      "source": [
        "#3. Amostragem Sistemática\n",
        "\n",
        "Implemente uma função que receba uma lista de 100 elementos e selecione uma amostra sistemática de 10 elementos (um a cada k elementos)."
      ],
      "metadata": {
        "id": "f_mBMI7_k8kY"
      }
    },
    {
      "cell_type": "code",
      "source": [
        "from math import ceil\n",
        "\n",
        "# Criação das variáveis para representar a população, a amostra e o valor de k\n",
        "populacao_n = len(populacao)\n",
        "amostra_n = 10\n",
        "k = ceil(populacao_n / amostra_n)\n",
        "print(k)"
      ],
      "metadata": {
        "colab": {
          "base_uri": "https://localhost:8080/"
        },
        "id": "46Yro641k8SJ",
        "outputId": "271fdc6c-9d51-4f22-9022-a2133371a745"
      },
      "execution_count": 157,
      "outputs": [
        {
          "output_type": "stream",
          "name": "stdout",
          "text": [
            "10\n"
          ]
        }
      ]
    },
    {
      "cell_type": "code",
      "source": [
        "# Definição do valor randômico para inicializar a amostra, iniciando em 1 até k + 1\n",
        "r = np.random.randint(low = 1, high = k + 1, size = 1)\n",
        "print(r)"
      ],
      "metadata": {
        "colab": {
          "base_uri": "https://localhost:8080/"
        },
        "id": "Uyd75KARlrFT",
        "outputId": "cbd89a67-65c7-4cec-890f-917c5df98f34"
      },
      "execution_count": 158,
      "outputs": [
        {
          "output_type": "stream",
          "name": "stdout",
          "text": [
            "[1]\n"
          ]
        }
      ]
    },
    {
      "cell_type": "code",
      "source": [
        "# Criamos um for para somar os próximos valores, baseado no primeiro valor r que foi definido acima\n",
        "acumulador = r[0]\n",
        "sorteados = []\n",
        "for i in range(amostra_n):\n",
        "    #print(acumulador)\n",
        "    sorteados.append(acumulador)\n",
        "    acumulador += k\n",
        "print(sorteados)"
      ],
      "metadata": {
        "colab": {
          "base_uri": "https://localhost:8080/"
        },
        "id": "Yj3CsUCBmivB",
        "outputId": "ac040b14-f361-4e74-87b9-91534155db5b"
      },
      "execution_count": 159,
      "outputs": [
        {
          "output_type": "stream",
          "name": "stdout",
          "text": [
            "[np.int64(1), np.int64(11), np.int64(21), np.int64(31), np.int64(41), np.int64(51), np.int64(61), np.int64(71), np.int64(81), np.int64(91)]\n"
          ]
        }
      ]
    },
    {
      "cell_type": "code",
      "source": [
        "len(sorteados)"
      ],
      "metadata": {
        "colab": {
          "base_uri": "https://localhost:8080/"
        },
        "id": "TlYBgQdLm0Sb",
        "outputId": "59d0eede-3656-4de8-f9f7-d2976da1d29c"
      },
      "execution_count": 160,
      "outputs": [
        {
          "output_type": "execute_result",
          "data": {
            "text/plain": [
              "10"
            ]
          },
          "metadata": {},
          "execution_count": 160
        }
      ]
    },
    {
      "cell_type": "code",
      "source": [
        "# Selecionamos da população apenas os elementos cujos índices estão na lista 'sorteados'.\n",
        "# Como os índices em Python começam do zero (indexação baseada em zero), subtraímos 1 de cada valor em 'sorteados',\n",
        "# assumindo que 'sorteados' contém posições iniciando em 1 (indexação baseada em 1, como geralmente ocorre em planilhas).\n",
        "# O resultado é a lista 'base_final', contendo somente os elementos sorteados da população original.\n",
        "base_final = [populacao[i - 1] for i in sorteados]\n",
        "base_final"
      ],
      "metadata": {
        "colab": {
          "base_uri": "https://localhost:8080/"
        },
        "id": "DB1q21Nsm8Y0",
        "outputId": "f7e245a1-c680-4e7a-e199-4e7202adde66"
      },
      "execution_count": 164,
      "outputs": [
        {
          "output_type": "execute_result",
          "data": {
            "text/plain": [
              "['Pessoa 0',\n",
              " 'Pessoa 10',\n",
              " 'Pessoa 20',\n",
              " 'Pessoa 30',\n",
              " 'Pessoa 40',\n",
              " 'Pessoa 50',\n",
              " 'Pessoa 60',\n",
              " 'Pessoa 70',\n",
              " 'Pessoa 80',\n",
              " 'Pessoa 90']"
            ]
          },
          "metadata": {},
          "execution_count": 164
        }
      ]
    }
  ]
}