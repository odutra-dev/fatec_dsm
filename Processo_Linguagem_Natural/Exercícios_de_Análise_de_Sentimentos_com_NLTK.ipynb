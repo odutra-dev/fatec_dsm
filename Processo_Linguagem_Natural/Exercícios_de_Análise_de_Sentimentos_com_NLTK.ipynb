{
  "nbformat": 4,
  "nbformat_minor": 0,
  "metadata": {
    "colab": {
      "provenance": []
    },
    "kernelspec": {
      "name": "python3",
      "display_name": "Python 3"
    },
    "language_info": {
      "name": "python"
    }
  },
  "cells": [
    {
      "cell_type": "markdown",
      "source": [
        "\n",
        "# TP – Processamento de Linguagem Natural\t\t\tProfessor: Vagner Macedo\n",
        "\n",
        "> Exercícios de Análise de Sentimentos com NLTK\n",
        ">\n",
        ">**Exercício 1: Pré-processamento de Texto**\n",
        ">\n",
        ">**Objetivo**: Limpar e pré-processar um conjunto de textos antes da análise de sentimentos.\n",
        "Enunciado:\n"
      ],
      "metadata": {
        "id": "FcamJVfWV_kO"
      }
    },
    {
      "cell_type": "markdown",
      "source": [
        "## Dado o seguinte conjunto de frases:\n",
        "\n",
        "frases = [\n",
        "    \"Eu adoro esse filme! É maravilhoso 😊\",\n",
        "    \"Que filme terrível... não gostei!\",\n",
        "    \"Muito bom! Recomendo assistir.\",\n",
        "    \"Horrível! Péssima experiência, nunca mais assisto.\"\n",
        "]\n"
      ],
      "metadata": {
        "id": "0F7w4QuyXngg"
      }
    },
    {
      "cell_type": "code",
      "execution_count": null,
      "metadata": {
        "colab": {
          "base_uri": "https://localhost:8080/"
        },
        "id": "T2PE5NJkPdNY",
        "outputId": "f79d55fc-06f3-4392-cdcc-98f85f899714"
      },
      "outputs": [
        {
          "output_type": "stream",
          "name": "stderr",
          "text": [
            "[nltk_data] Downloading package stopwords to /root/nltk_data...\n",
            "[nltk_data]   Unzipping corpora/stopwords.zip.\n",
            "[nltk_data] Downloading package punkt to /root/nltk_data...\n",
            "[nltk_data]   Unzipping tokenizers/punkt.zip.\n",
            "[nltk_data] Downloading package punkt_tab to /root/nltk_data...\n",
            "[nltk_data]   Unzipping tokenizers/punkt_tab.zip.\n"
          ]
        },
        {
          "output_type": "execute_result",
          "data": {
            "text/plain": [
              "True"
            ]
          },
          "metadata": {},
          "execution_count": 1
        }
      ],
      "source": [
        "# import necessario\n",
        "import nltk\n",
        "import re\n",
        "\n",
        "# Realizando o Download dos recursos necessarios\n",
        "nltk.download('stopwords')\n",
        "nltk.download('punkt')\n",
        "nltk.download('punkt_tab')"
      ]
    },
    {
      "cell_type": "code",
      "source": [
        "# Import das Stopwords\n",
        "from nltk.corpus import stopwords\n",
        "from nltk.tokenize import word_tokenize"
      ],
      "metadata": {
        "id": "V6ByrxF8R-3c"
      },
      "execution_count": null,
      "outputs": []
    },
    {
      "cell_type": "code",
      "source": [
        "frases = [\n",
        "\"Eu adoro esse filme! É maravilhoso 😊\",\n",
        "\"Que filme terrível... não gostei!\",\n",
        "\"Muito bom! Recomendo assistir.\",\n",
        "\"Horrível! Péssima experiência, nunca mais assisto.\"\n",
        "]\n",
        "\n",
        "frases"
      ],
      "metadata": {
        "colab": {
          "base_uri": "https://localhost:8080/"
        },
        "id": "z1d3ZoPzQXZS",
        "outputId": "d4564a57-dcda-4a45-bbbe-be2136942d26"
      },
      "execution_count": null,
      "outputs": [
        {
          "output_type": "execute_result",
          "data": {
            "text/plain": [
              "['Eu adoro esse filme! É maravilhoso 😊',\n",
              " 'Que filme terrível... não gostei!',\n",
              " 'Muito bom! Recomendo assistir.',\n",
              " 'Horrível! Péssima experiência, nunca mais assisto.']"
            ]
          },
          "metadata": {},
          "execution_count": 3
        }
      ]
    },
    {
      "cell_type": "code",
      "source": [
        "stop_words = set(stopwords.words('portuguese'))"
      ],
      "metadata": {
        "id": "CLCPBDx-S4Eq"
      },
      "execution_count": null,
      "outputs": []
    },
    {
      "cell_type": "markdown",
      "source": [
        "### 1. Remova pontuações e emojis dos textos.\n"
      ],
      "metadata": {
        "id": "SG93Ok_6YAYC"
      }
    },
    {
      "cell_type": "code",
      "source": [
        "# Apenas letras e espaços (mantém acentos)\n",
        "frases_sem_pontuacao = [re.sub(r'[^a-zA-ZáéíóúàèìòùâêîôûãõçÁÉÍÓÚÀÈÌÒÙÂÊÎÔÛÃÕÇ\\s]', '', frase) for frase in frases]\n",
        "\n",
        "# Visualizar resultado\n",
        "frases_sem_pontuacao"
      ],
      "metadata": {
        "colab": {
          "base_uri": "https://localhost:8080/"
        },
        "id": "mb2GjozGTt3P",
        "outputId": "dec4304c-5dbf-4080-9cfe-c1358d76561f"
      },
      "execution_count": null,
      "outputs": [
        {
          "output_type": "execute_result",
          "data": {
            "text/plain": [
              "['Eu adoro esse filme É maravilhoso ',\n",
              " 'Que filme terrível não gostei',\n",
              " 'Muito bom Recomendo assistir',\n",
              " 'Horrível Péssima experiência nunca mais assisto']"
            ]
          },
          "metadata": {},
          "execution_count": 5
        }
      ]
    },
    {
      "cell_type": "markdown",
      "source": [
        "### 2. Converta todo o texto para minúsculas."
      ],
      "metadata": {
        "id": "-sIXP_whYHjS"
      }
    },
    {
      "cell_type": "code",
      "source": [
        "frases_minusculas = [frase.lower() for frase in frases_sem_pontuacao]\n",
        "\n",
        "# Visualizar resultado\n",
        "frases_minusculas"
      ],
      "metadata": {
        "colab": {
          "base_uri": "https://localhost:8080/"
        },
        "id": "PuRlzy7tUKxS",
        "outputId": "b73f7caf-c239-4ea9-d646-3579c90e3225"
      },
      "execution_count": null,
      "outputs": [
        {
          "output_type": "execute_result",
          "data": {
            "text/plain": [
              "['eu adoro esse filme é maravilhoso ',\n",
              " 'que filme terrível não gostei',\n",
              " 'muito bom recomendo assistir',\n",
              " 'horrível péssima experiência nunca mais assisto']"
            ]
          },
          "metadata": {},
          "execution_count": 6
        }
      ]
    },
    {
      "cell_type": "markdown",
      "source": [
        "### 3. Tokenize cada frase em palavras."
      ],
      "metadata": {
        "id": "5wRGJr3bYPeL"
      }
    },
    {
      "cell_type": "code",
      "source": [
        "frases_tokenizadas = [word_tokenize(frase, language='portuguese') for frase in frases_minusculas]\n",
        "\n",
        "# Visualizar resultado\n",
        "frases_tokenizadas"
      ],
      "metadata": {
        "colab": {
          "base_uri": "https://localhost:8080/"
        },
        "id": "kgSuYSQxUT9C",
        "outputId": "7662040c-2b1c-44f3-abe2-6c345f1f0888"
      },
      "execution_count": null,
      "outputs": [
        {
          "output_type": "execute_result",
          "data": {
            "text/plain": [
              "[['eu', 'adoro', 'esse', 'filme', 'é', 'maravilhoso'],\n",
              " ['que', 'filme', 'terrível', 'não', 'gostei'],\n",
              " ['muito', 'bom', 'recomendo', 'assistir'],\n",
              " ['horrível', 'péssima', 'experiência', 'nunca', 'mais', 'assisto']]"
            ]
          },
          "metadata": {},
          "execution_count": 7
        }
      ]
    },
    {
      "cell_type": "markdown",
      "source": [
        "### 4. Remova stopwords da língua portuguesa usando nltk.corpus.stopwords."
      ],
      "metadata": {
        "id": "0PsSs1bEYbLU"
      }
    },
    {
      "cell_type": "code",
      "source": [
        "frases_sem_stopwords = [\n",
        "    [palavra for palavra in frase if palavra not in stop_words]\n",
        "    for frase in frases_tokenizadas\n",
        "]\n",
        "\n",
        "# Visualizar resultado final\n",
        "frases_sem_stopwords"
      ],
      "metadata": {
        "id": "MbKtBfn6U70n",
        "outputId": "92cf380d-174f-4c8a-a848-b140c9cf9f56",
        "colab": {
          "base_uri": "https://localhost:8080/"
        }
      },
      "execution_count": null,
      "outputs": [
        {
          "output_type": "execute_result",
          "data": {
            "text/plain": [
              "[['adoro', 'filme', 'maravilhoso'],\n",
              " ['filme', 'terrível', 'gostei'],\n",
              " ['bom', 'recomendo', 'assistir'],\n",
              " ['horrível', 'péssima', 'experiência', 'nunca', 'assisto']]"
            ]
          },
          "metadata": {},
          "execution_count": 8
        }
      ]
    }
  ]
}