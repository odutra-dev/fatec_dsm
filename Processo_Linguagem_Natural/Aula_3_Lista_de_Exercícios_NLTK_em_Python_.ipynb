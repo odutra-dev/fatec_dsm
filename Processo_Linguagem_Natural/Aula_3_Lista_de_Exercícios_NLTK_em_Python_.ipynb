{
  "nbformat": 4,
  "nbformat_minor": 0,
  "metadata": {
    "colab": {
      "provenance": [],
      "collapsed_sections": [
        "unEQ9aOUolbt",
        "XlFHG4f1oqcO",
        "nbgEFYCErztR",
        "bFPGCg11wF6M"
      ]
    },
    "kernelspec": {
      "name": "python3",
      "display_name": "Python 3"
    },
    "language_info": {
      "name": "python"
    }
  },
  "cells": [
    {
      "cell_type": "markdown",
      "source": [
        "# Preparação"
      ],
      "metadata": {
        "id": "unEQ9aOUolbt"
      }
    },
    {
      "cell_type": "markdown",
      "source": [
        "## 1) Instale e importe o NLTK, baixe os recursos necessários (punkt, stopwords, wordnet, omw-1.4)."
      ],
      "metadata": {
        "id": "MKbCWG03m1hy"
      }
    },
    {
      "cell_type": "code",
      "execution_count": 92,
      "metadata": {
        "colab": {
          "base_uri": "https://localhost:8080/"
        },
        "id": "_HY8RVvtmpld",
        "outputId": "14c23528-1c1b-4e13-88fb-136b5d6e9240"
      },
      "outputs": [
        {
          "output_type": "stream",
          "name": "stderr",
          "text": [
            "[nltk_data] Downloading package punkt to /root/nltk_data...\n",
            "[nltk_data]   Package punkt is already up-to-date!\n",
            "[nltk_data] Downloading package punkt_tab to /root/nltk_data...\n",
            "[nltk_data]   Package punkt_tab is already up-to-date!\n",
            "[nltk_data] Downloading package stopwords to /root/nltk_data...\n",
            "[nltk_data]   Package stopwords is already up-to-date!\n",
            "[nltk_data] Downloading package wordnet to /root/nltk_data...\n",
            "[nltk_data]   Package wordnet is already up-to-date!\n",
            "[nltk_data] Downloading package omw-1.4 to /root/nltk_data...\n",
            "[nltk_data]   Package omw-1.4 is already up-to-date!\n",
            "[nltk_data] Downloading package rslp to /root/nltk_data...\n",
            "[nltk_data]   Package rslp is already up-to-date!\n"
          ]
        },
        {
          "output_type": "execute_result",
          "data": {
            "text/plain": [
              "True"
            ]
          },
          "metadata": {},
          "execution_count": 92
        }
      ],
      "source": [
        "import nltk\n",
        "\n",
        "nltk.download('punkt')\n",
        "nltk.download('punkt_tab')\n",
        "nltk.download('stopwords')\n",
        "nltk.download('wordnet')\n",
        "nltk.download('omw-1.4')\n",
        "nltk.download('rslp')\n"
      ]
    },
    {
      "cell_type": "markdown",
      "source": [
        "## 2) Carregue um pequeno texto em português para análise."
      ],
      "metadata": {
        "id": "TqHLp8HdnFub"
      }
    },
    {
      "cell_type": "code",
      "source": [
        "with open('eclesiaste-11.txt', 'r') as f:\n",
        "    texto = f.read()"
      ],
      "metadata": {
        "id": "ZhmTUtFknIh7"
      },
      "execution_count": 93,
      "outputs": []
    },
    {
      "cell_type": "markdown",
      "source": [],
      "metadata": {
        "id": "NyEqPYCLoSdb"
      }
    },
    {
      "cell_type": "markdown",
      "source": [
        "# Tokenização"
      ],
      "metadata": {
        "id": "XlFHG4f1oqcO"
      }
    },
    {
      "cell_type": "markdown",
      "source": [
        "## 1) Use sent_tokenize e word_tokenize para contar sentenças e tokens de um texto."
      ],
      "metadata": {
        "id": "lk3dSyweotdO"
      }
    },
    {
      "cell_type": "code",
      "source": [
        "setencas = nltk.sent_tokenize(texto)\n",
        "palavras = nltk.word_tokenize(texto)\n",
        "\n",
        "print(f\"sentenças: {len(setencas)}\")\n",
        "print(f\"palavras: {len(palavras)}\")"
      ],
      "metadata": {
        "colab": {
          "base_uri": "https://localhost:8080/"
        },
        "id": "Hio-JYhFoynX",
        "outputId": "081ab126-b6b8-4b25-8200-a5bc352dfbdc"
      },
      "execution_count": 94,
      "outputs": [
        {
          "output_type": "stream",
          "name": "stdout",
          "text": [
            "sentenças: 16\n",
            "palavras: 258\n"
          ]
        }
      ]
    },
    {
      "cell_type": "markdown",
      "source": [
        "## 2) Normalize tokens: minúsculas, remova pontuação/números, filtre tokens < 2 caracteres."
      ],
      "metadata": {
        "id": "6QE3K55iqVk4"
      }
    },
    {
      "cell_type": "code",
      "source": [
        "palavras_limpas = [palavra.lower() for palavra in palavras if palavra.isalpha() and len(palavra) > 2]\n",
        "\n",
        "print(f\"palavras: {len(palavras_limpas)}\")"
      ],
      "metadata": {
        "colab": {
          "base_uri": "https://localhost:8080/"
        },
        "id": "BCgQf_X_qX2o",
        "outputId": "9e7a205c-edc8-44bc-c0ef-6273826cf8ad"
      },
      "execution_count": 95,
      "outputs": [
        {
          "output_type": "stream",
          "name": "stdout",
          "text": [
            "palavras: 173\n"
          ]
        }
      ]
    },
    {
      "cell_type": "markdown",
      "source": [
        "## 3) Use RegexpTokenizer para manter palavras com hífen e compare com word_tokenize."
      ],
      "metadata": {
        "id": "MezsSFHnrGpF"
      }
    },
    {
      "cell_type": "code",
      "source": [
        "palavras_hifen = nltk.RegexpTokenizer(r'\\w+-\\w+')\n",
        "palavras_hifen.tokenize(texto)"
      ],
      "metadata": {
        "colab": {
          "base_uri": "https://localhost:8080/"
        },
        "id": "Eu14Yv1KrIut",
        "outputId": "e8c3f4c5-1179-41d9-eefa-9c1dce687f55"
      },
      "execution_count": 96,
      "outputs": [
        {
          "output_type": "execute_result",
          "data": {
            "text/plain": [
              "['Aplique-o']"
            ]
          },
          "metadata": {},
          "execution_count": 96
        }
      ]
    },
    {
      "cell_type": "markdown",
      "source": [
        "# Stopwords"
      ],
      "metadata": {
        "id": "nbgEFYCErztR"
      }
    },
    {
      "cell_type": "markdown",
      "source": [
        "## 1) Carregue stopwords em português, remova-as e mostre as 20 palavras mais frequentes."
      ],
      "metadata": {
        "id": "1yYMgJe2r36p"
      }
    },
    {
      "cell_type": "code",
      "source": [
        "stopwords = nltk.corpus.stopwords.words('portuguese')\n",
        "\n",
        "stopwords"
      ],
      "metadata": {
        "colab": {
          "base_uri": "https://localhost:8080/"
        },
        "id": "EXp1TkPEtLEq",
        "outputId": "a96329d4-5491-4b5b-ee0e-068d11e66c2f"
      },
      "execution_count": 97,
      "outputs": [
        {
          "output_type": "execute_result",
          "data": {
            "text/plain": [
              "['a',\n",
              " 'à',\n",
              " 'ao',\n",
              " 'aos',\n",
              " 'aquela',\n",
              " 'aquelas',\n",
              " 'aquele',\n",
              " 'aqueles',\n",
              " 'aquilo',\n",
              " 'as',\n",
              " 'às',\n",
              " 'até',\n",
              " 'com',\n",
              " 'como',\n",
              " 'da',\n",
              " 'das',\n",
              " 'de',\n",
              " 'dela',\n",
              " 'delas',\n",
              " 'dele',\n",
              " 'deles',\n",
              " 'depois',\n",
              " 'do',\n",
              " 'dos',\n",
              " 'e',\n",
              " 'é',\n",
              " 'ela',\n",
              " 'elas',\n",
              " 'ele',\n",
              " 'eles',\n",
              " 'em',\n",
              " 'entre',\n",
              " 'era',\n",
              " 'eram',\n",
              " 'éramos',\n",
              " 'essa',\n",
              " 'essas',\n",
              " 'esse',\n",
              " 'esses',\n",
              " 'esta',\n",
              " 'está',\n",
              " 'estamos',\n",
              " 'estão',\n",
              " 'estar',\n",
              " 'estas',\n",
              " 'estava',\n",
              " 'estavam',\n",
              " 'estávamos',\n",
              " 'este',\n",
              " 'esteja',\n",
              " 'estejam',\n",
              " 'estejamos',\n",
              " 'estes',\n",
              " 'esteve',\n",
              " 'estive',\n",
              " 'estivemos',\n",
              " 'estiver',\n",
              " 'estivera',\n",
              " 'estiveram',\n",
              " 'estivéramos',\n",
              " 'estiverem',\n",
              " 'estivermos',\n",
              " 'estivesse',\n",
              " 'estivessem',\n",
              " 'estivéssemos',\n",
              " 'estou',\n",
              " 'eu',\n",
              " 'foi',\n",
              " 'fomos',\n",
              " 'for',\n",
              " 'fora',\n",
              " 'foram',\n",
              " 'fôramos',\n",
              " 'forem',\n",
              " 'formos',\n",
              " 'fosse',\n",
              " 'fossem',\n",
              " 'fôssemos',\n",
              " 'fui',\n",
              " 'há',\n",
              " 'haja',\n",
              " 'hajam',\n",
              " 'hajamos',\n",
              " 'hão',\n",
              " 'havemos',\n",
              " 'haver',\n",
              " 'hei',\n",
              " 'houve',\n",
              " 'houvemos',\n",
              " 'houver',\n",
              " 'houvera',\n",
              " 'houverá',\n",
              " 'houveram',\n",
              " 'houvéramos',\n",
              " 'houverão',\n",
              " 'houverei',\n",
              " 'houverem',\n",
              " 'houveremos',\n",
              " 'houveria',\n",
              " 'houveriam',\n",
              " 'houveríamos',\n",
              " 'houvermos',\n",
              " 'houvesse',\n",
              " 'houvessem',\n",
              " 'houvéssemos',\n",
              " 'isso',\n",
              " 'isto',\n",
              " 'já',\n",
              " 'lhe',\n",
              " 'lhes',\n",
              " 'mais',\n",
              " 'mas',\n",
              " 'me',\n",
              " 'mesmo',\n",
              " 'meu',\n",
              " 'meus',\n",
              " 'minha',\n",
              " 'minhas',\n",
              " 'muito',\n",
              " 'na',\n",
              " 'não',\n",
              " 'nas',\n",
              " 'nem',\n",
              " 'no',\n",
              " 'nos',\n",
              " 'nós',\n",
              " 'nossa',\n",
              " 'nossas',\n",
              " 'nosso',\n",
              " 'nossos',\n",
              " 'num',\n",
              " 'numa',\n",
              " 'o',\n",
              " 'os',\n",
              " 'ou',\n",
              " 'para',\n",
              " 'pela',\n",
              " 'pelas',\n",
              " 'pelo',\n",
              " 'pelos',\n",
              " 'por',\n",
              " 'qual',\n",
              " 'quando',\n",
              " 'que',\n",
              " 'quem',\n",
              " 'são',\n",
              " 'se',\n",
              " 'seja',\n",
              " 'sejam',\n",
              " 'sejamos',\n",
              " 'sem',\n",
              " 'ser',\n",
              " 'será',\n",
              " 'serão',\n",
              " 'serei',\n",
              " 'seremos',\n",
              " 'seria',\n",
              " 'seriam',\n",
              " 'seríamos',\n",
              " 'seu',\n",
              " 'seus',\n",
              " 'só',\n",
              " 'somos',\n",
              " 'sou',\n",
              " 'sua',\n",
              " 'suas',\n",
              " 'também',\n",
              " 'te',\n",
              " 'tem',\n",
              " 'tém',\n",
              " 'temos',\n",
              " 'tenha',\n",
              " 'tenham',\n",
              " 'tenhamos',\n",
              " 'tenho',\n",
              " 'terá',\n",
              " 'terão',\n",
              " 'terei',\n",
              " 'teremos',\n",
              " 'teria',\n",
              " 'teriam',\n",
              " 'teríamos',\n",
              " 'teu',\n",
              " 'teus',\n",
              " 'teve',\n",
              " 'tinha',\n",
              " 'tinham',\n",
              " 'tínhamos',\n",
              " 'tive',\n",
              " 'tivemos',\n",
              " 'tiver',\n",
              " 'tivera',\n",
              " 'tiveram',\n",
              " 'tivéramos',\n",
              " 'tiverem',\n",
              " 'tivermos',\n",
              " 'tivesse',\n",
              " 'tivessem',\n",
              " 'tivéssemos',\n",
              " 'tu',\n",
              " 'tua',\n",
              " 'tuas',\n",
              " 'um',\n",
              " 'uma',\n",
              " 'você',\n",
              " 'vocês',\n",
              " 'vos']"
            ]
          },
          "metadata": {},
          "execution_count": 97
        }
      ]
    },
    {
      "cell_type": "code",
      "source": [
        "palavras_sem_stopwords = [palavra for palavra in palavras_limpas if palavra not in stopwords]\n",
        "\n",
        "palavras_sem_stopwords"
      ],
      "metadata": {
        "colab": {
          "base_uri": "https://localhost:8080/"
        },
        "id": "__QFEjxkrzMZ",
        "outputId": "05df561a-b0c7-4f2a-ca5c-65ac06031fb9"
      },
      "execution_count": 98,
      "outputs": [
        {
          "output_type": "execute_result",
          "data": {
            "text/plain": [
              "['empregue',\n",
              " 'dinheiro',\n",
              " 'bons',\n",
              " 'negócios',\n",
              " 'tempo',\n",
              " 'lucro',\n",
              " 'vários',\n",
              " 'lugares',\n",
              " 'negócios',\n",
              " 'diferentes',\n",
              " 'porque',\n",
              " 'sabe',\n",
              " 'crise',\n",
              " 'poderá',\n",
              " 'acontecer',\n",
              " 'mundo',\n",
              " 'nuvens',\n",
              " 'ficam',\n",
              " 'cheias',\n",
              " 'chuva',\n",
              " 'cai',\n",
              " 'árvore',\n",
              " 'pode',\n",
              " 'cair',\n",
              " 'qualquer',\n",
              " 'direção',\n",
              " 'lugar',\n",
              " 'cair',\n",
              " 'ficará',\n",
              " 'fica',\n",
              " 'esperando',\n",
              " 'vento',\n",
              " 'mude',\n",
              " 'tempo',\n",
              " 'fique',\n",
              " 'bom',\n",
              " 'nunca',\n",
              " 'plantará',\n",
              " 'colherá',\n",
              " 'nada',\n",
              " 'deus',\n",
              " 'faz',\n",
              " 'todas',\n",
              " 'coisas',\n",
              " 'pode',\n",
              " 'entender',\n",
              " 'começa',\n",
              " 'nova',\n",
              " 'vida',\n",
              " 'dentro',\n",
              " 'barriga',\n",
              " 'mulher',\n",
              " 'assim',\n",
              " 'pode',\n",
              " 'entender',\n",
              " 'coisas',\n",
              " 'deus',\n",
              " 'faz',\n",
              " 'semeie',\n",
              " 'manhã',\n",
              " 'tarde',\n",
              " 'porque',\n",
              " 'sabe',\n",
              " 'todas',\n",
              " 'sementes',\n",
              " 'crescerão',\n",
              " 'bem',\n",
              " 'crescerá',\n",
              " 'melhor',\n",
              " 'outra',\n",
              " 'agradável',\n",
              " 'luz',\n",
              " 'dia',\n",
              " 'bom',\n",
              " 'ver',\n",
              " 'sol',\n",
              " 'viva',\n",
              " 'alegre',\n",
              " 'durante',\n",
              " 'todos',\n",
              " 'anos',\n",
              " 'vida',\n",
              " 'viva',\n",
              " 'muitos',\n",
              " 'anos',\n",
              " 'lembre',\n",
              " 'ficará',\n",
              " 'morto',\n",
              " 'durante',\n",
              " 'tempo',\n",
              " 'tudo',\n",
              " 'acontece',\n",
              " 'ilusão',\n",
              " 'jovem',\n",
              " 'aproveite',\n",
              " 'mocidade',\n",
              " 'feliz',\n",
              " 'enquanto',\n",
              " 'moço',\n",
              " 'faça',\n",
              " 'tudo',\n",
              " 'quiser',\n",
              " 'siga',\n",
              " 'desejos',\n",
              " 'coração',\n",
              " 'lembre',\n",
              " 'coisa',\n",
              " 'deus',\n",
              " 'julgará',\n",
              " 'tudo',\n",
              " 'fizer',\n",
              " 'deixe',\n",
              " 'nada',\n",
              " 'preocupe',\n",
              " 'faça',\n",
              " 'sofrer',\n",
              " 'pois',\n",
              " 'mocidade',\n",
              " 'dura',\n",
              " 'pouco']"
            ]
          },
          "metadata": {},
          "execution_count": 98
        }
      ]
    },
    {
      "cell_type": "code",
      "source": [
        "frequencia = nltk.FreqDist(palavras_sem_stopwords)\n",
        "\n",
        "frequencia.most_common(20)"
      ],
      "metadata": {
        "colab": {
          "base_uri": "https://localhost:8080/"
        },
        "id": "YU2kqTjCtZFb",
        "outputId": "fb39a5ff-1c43-46d6-938b-4136f749d2b1"
      },
      "execution_count": 99,
      "outputs": [
        {
          "output_type": "execute_result",
          "data": {
            "text/plain": [
              "[('tempo', 3),\n",
              " ('pode', 3),\n",
              " ('deus', 3),\n",
              " ('tudo', 3),\n",
              " ('negócios', 2),\n",
              " ('porque', 2),\n",
              " ('sabe', 2),\n",
              " ('cair', 2),\n",
              " ('ficará', 2),\n",
              " ('bom', 2),\n",
              " ('nada', 2),\n",
              " ('faz', 2),\n",
              " ('todas', 2),\n",
              " ('coisas', 2),\n",
              " ('entender', 2),\n",
              " ('vida', 2),\n",
              " ('viva', 2),\n",
              " ('durante', 2),\n",
              " ('anos', 2),\n",
              " ('lembre', 2)]"
            ]
          },
          "metadata": {},
          "execution_count": 99
        }
      ]
    },
    {
      "cell_type": "markdown",
      "source": [
        "## 2) Adicione stopwords customizadas (ex.: 'dados', 'modelo') e compare distribuição."
      ],
      "metadata": {
        "id": "T8D3V2rdt3L-"
      }
    },
    {
      "cell_type": "code",
      "source": [
        "stopwords.append('tempo')\n",
        "stopwords.append('deus')\n",
        "\n"
      ],
      "metadata": {
        "id": "LG3DzKP5uBiH"
      },
      "execution_count": 100,
      "outputs": []
    },
    {
      "cell_type": "code",
      "source": [
        "palavras_sem_stopwords = [palavra for palavra in palavras_limpas if palavra not in stopwords]\n",
        "\n",
        "frequencia_custpmizada = nltk.FreqDist(palavras_sem_stopwords)\n",
        "\n",
        "frequencia_custpmizada.most_common(20)"
      ],
      "metadata": {
        "colab": {
          "base_uri": "https://localhost:8080/"
        },
        "id": "mq3nanENvIWJ",
        "outputId": "f5641e1e-a8cd-4c98-c0cb-ab9e0f6f3200"
      },
      "execution_count": 101,
      "outputs": [
        {
          "output_type": "execute_result",
          "data": {
            "text/plain": [
              "[('pode', 3),\n",
              " ('tudo', 3),\n",
              " ('negócios', 2),\n",
              " ('porque', 2),\n",
              " ('sabe', 2),\n",
              " ('cair', 2),\n",
              " ('ficará', 2),\n",
              " ('bom', 2),\n",
              " ('nada', 2),\n",
              " ('faz', 2),\n",
              " ('todas', 2),\n",
              " ('coisas', 2),\n",
              " ('entender', 2),\n",
              " ('vida', 2),\n",
              " ('viva', 2),\n",
              " ('durante', 2),\n",
              " ('anos', 2),\n",
              " ('lembre', 2),\n",
              " ('mocidade', 2),\n",
              " ('faça', 2)]"
            ]
          },
          "metadata": {},
          "execution_count": 101
        }
      ]
    },
    {
      "cell_type": "code",
      "source": [
        "print(f\"frequencia: {frequencia.most_common(20)}\")\n",
        "print(f\"frequencia_custpmizada: {frequencia_custpmizada.most_common(20)}\")"
      ],
      "metadata": {
        "colab": {
          "base_uri": "https://localhost:8080/"
        },
        "id": "Tt8AN4JUvpQy",
        "outputId": "69c95b7a-94c7-43e1-9319-c37795f5624c"
      },
      "execution_count": 102,
      "outputs": [
        {
          "output_type": "stream",
          "name": "stdout",
          "text": [
            "frequencia: [('tempo', 3), ('pode', 3), ('deus', 3), ('tudo', 3), ('negócios', 2), ('porque', 2), ('sabe', 2), ('cair', 2), ('ficará', 2), ('bom', 2), ('nada', 2), ('faz', 2), ('todas', 2), ('coisas', 2), ('entender', 2), ('vida', 2), ('viva', 2), ('durante', 2), ('anos', 2), ('lembre', 2)]\n",
            "frequencia_custpmizada: [('pode', 3), ('tudo', 3), ('negócios', 2), ('porque', 2), ('sabe', 2), ('cair', 2), ('ficará', 2), ('bom', 2), ('nada', 2), ('faz', 2), ('todas', 2), ('coisas', 2), ('entender', 2), ('vida', 2), ('viva', 2), ('durante', 2), ('anos', 2), ('lembre', 2), ('mocidade', 2), ('faça', 2)]\n"
          ]
        }
      ]
    },
    {
      "cell_type": "markdown",
      "source": [
        "# N-grams"
      ],
      "metadata": {
        "id": "bFPGCg11wF6M"
      }
    },
    {
      "cell_type": "markdown",
      "source": [
        "## 1) Gere bigramas e trigramas sem stopwords e liste os 15 mais comuns."
      ],
      "metadata": {
        "id": "uoVtqvlJwLf9"
      }
    },
    {
      "cell_type": "code",
      "source": [
        "bigramas = nltk.bigrams(palavras_sem_stopwords)\n",
        "\n",
        "frequencia_bigramas = nltk.FreqDist(bigramas)\n",
        "\n",
        "frequencia_bigramas.most_common(15)"
      ],
      "metadata": {
        "colab": {
          "base_uri": "https://localhost:8080/"
        },
        "id": "nEcHGeiDwTc_",
        "outputId": "4ba80117-0d31-4909-f627-661538471c04"
      },
      "execution_count": 103,
      "outputs": [
        {
          "output_type": "execute_result",
          "data": {
            "text/plain": [
              "[(('porque', 'sabe'), 2),\n",
              " (('pode', 'entender'), 2),\n",
              " (('empregue', 'dinheiro'), 1),\n",
              " (('dinheiro', 'bons'), 1),\n",
              " (('bons', 'negócios'), 1),\n",
              " (('negócios', 'lucro'), 1),\n",
              " (('lucro', 'vários'), 1),\n",
              " (('vários', 'lugares'), 1),\n",
              " (('lugares', 'negócios'), 1),\n",
              " (('negócios', 'diferentes'), 1),\n",
              " (('diferentes', 'porque'), 1),\n",
              " (('sabe', 'crise'), 1),\n",
              " (('crise', 'poderá'), 1),\n",
              " (('poderá', 'acontecer'), 1),\n",
              " (('acontecer', 'mundo'), 1)]"
            ]
          },
          "metadata": {},
          "execution_count": 103
        }
      ]
    },
    {
      "cell_type": "code",
      "source": [
        "trigramas = nltk.trigrams(palavras_sem_stopwords)\n",
        "\n",
        "frequencia_trigramas = nltk.FreqDist(trigramas)\n",
        "\n",
        "frequencia_trigramas.most_common(15)"
      ],
      "metadata": {
        "colab": {
          "base_uri": "https://localhost:8080/"
        },
        "id": "E1TxZS2-w5Gq",
        "outputId": "662af240-b35f-403c-a143-ab49eb6c053c"
      },
      "execution_count": 104,
      "outputs": [
        {
          "output_type": "execute_result",
          "data": {
            "text/plain": [
              "[(('empregue', 'dinheiro', 'bons'), 1),\n",
              " (('dinheiro', 'bons', 'negócios'), 1),\n",
              " (('bons', 'negócios', 'lucro'), 1),\n",
              " (('negócios', 'lucro', 'vários'), 1),\n",
              " (('lucro', 'vários', 'lugares'), 1),\n",
              " (('vários', 'lugares', 'negócios'), 1),\n",
              " (('lugares', 'negócios', 'diferentes'), 1),\n",
              " (('negócios', 'diferentes', 'porque'), 1),\n",
              " (('diferentes', 'porque', 'sabe'), 1),\n",
              " (('porque', 'sabe', 'crise'), 1),\n",
              " (('sabe', 'crise', 'poderá'), 1),\n",
              " (('crise', 'poderá', 'acontecer'), 1),\n",
              " (('poderá', 'acontecer', 'mundo'), 1),\n",
              " (('acontecer', 'mundo', 'nuvens'), 1),\n",
              " (('mundo', 'nuvens', 'ficam'), 1)]"
            ]
          },
          "metadata": {},
          "execution_count": 104
        }
      ]
    },
    {
      "cell_type": "markdown",
      "source": [
        "## 2) Crie função para melhores n-grams com qualquer n e compare resultados."
      ],
      "metadata": {
        "id": "vgbyaKwSxTH0"
      }
    },
    {
      "cell_type": "code",
      "source": [
        "def gerar_ngramas(palavras, n):\n",
        "    ngramas = nltk.ngrams(palavras, n)\n",
        "    frequencia_ngramas = nltk.FreqDist(ngramas)\n",
        "    return frequencia_ngramas.most_common(15)\n",
        "\n",
        "\n",
        "gerar_ngramas(palavras_sem_stopwords, 5)"
      ],
      "metadata": {
        "colab": {
          "base_uri": "https://localhost:8080/"
        },
        "id": "dsnNsLG4xXuV",
        "outputId": "a5fead78-9a60-477b-fcf4-744719f0249d"
      },
      "execution_count": 105,
      "outputs": [
        {
          "output_type": "execute_result",
          "data": {
            "text/plain": [
              "[(('empregue', 'dinheiro', 'bons', 'negócios', 'lucro'), 1),\n",
              " (('dinheiro', 'bons', 'negócios', 'lucro', 'vários'), 1),\n",
              " (('bons', 'negócios', 'lucro', 'vários', 'lugares'), 1),\n",
              " (('negócios', 'lucro', 'vários', 'lugares', 'negócios'), 1),\n",
              " (('lucro', 'vários', 'lugares', 'negócios', 'diferentes'), 1),\n",
              " (('vários', 'lugares', 'negócios', 'diferentes', 'porque'), 1),\n",
              " (('lugares', 'negócios', 'diferentes', 'porque', 'sabe'), 1),\n",
              " (('negócios', 'diferentes', 'porque', 'sabe', 'crise'), 1),\n",
              " (('diferentes', 'porque', 'sabe', 'crise', 'poderá'), 1),\n",
              " (('porque', 'sabe', 'crise', 'poderá', 'acontecer'), 1),\n",
              " (('sabe', 'crise', 'poderá', 'acontecer', 'mundo'), 1),\n",
              " (('crise', 'poderá', 'acontecer', 'mundo', 'nuvens'), 1),\n",
              " (('poderá', 'acontecer', 'mundo', 'nuvens', 'ficam'), 1),\n",
              " (('acontecer', 'mundo', 'nuvens', 'ficam', 'cheias'), 1),\n",
              " (('mundo', 'nuvens', 'ficam', 'cheias', 'chuva'), 1)]"
            ]
          },
          "metadata": {},
          "execution_count": 105
        }
      ]
    },
    {
      "cell_type": "markdown",
      "source": [
        "# Stemização e Lematização"
      ],
      "metadata": {
        "id": "Ikuxwz8HyN_S"
      }
    },
    {
      "cell_type": "markdown",
      "source": [
        "## 1) Aplique RSLPStemmer aos tokens e mostre dicionário {original: stem}."
      ],
      "metadata": {
        "id": "Sx4gk-PjySey"
      }
    },
    {
      "cell_type": "code",
      "source": [
        "stem_original = nltk.RSLPStemmer()\n",
        "\n",
        "stem_original.stem('desejos')"
      ],
      "metadata": {
        "colab": {
          "base_uri": "https://localhost:8080/",
          "height": 0
        },
        "id": "dOzkSO2wyWij",
        "outputId": "7749716b-8a48-4761-be59-a5f341282bc8"
      },
      "execution_count": 106,
      "outputs": [
        {
          "output_type": "execute_result",
          "data": {
            "text/plain": [
              "'desej'"
            ],
            "application/vnd.google.colaboratory.intrinsic+json": {
              "type": "string"
            }
          },
          "metadata": {},
          "execution_count": 106
        }
      ]
    },
    {
      "cell_type": "markdown",
      "source": [
        "## 2) Compare RSLPStemmer com SnowballStemmer('portuguese') e discuta."
      ],
      "metadata": {
        "id": "DilwdG9x0i7C"
      }
    },
    {
      "cell_type": "code",
      "source": [
        "snowball_original = nltk.SnowballStemmer('portuguese')\n",
        "\n",
        "snowball_original.stem('desejos')"
      ],
      "metadata": {
        "colab": {
          "base_uri": "https://localhost:8080/",
          "height": 0
        },
        "id": "g3EsAC_i0mAp",
        "outputId": "c57e9121-c4d1-4143-face-c06b41b8305f"
      },
      "execution_count": 107,
      "outputs": [
        {
          "output_type": "execute_result",
          "data": {
            "text/plain": [
              "'desej'"
            ],
            "application/vnd.google.colaboratory.intrinsic+json": {
              "type": "string"
            }
          },
          "metadata": {},
          "execution_count": 107
        }
      ]
    },
    {
      "cell_type": "markdown",
      "source": [
        "## 3) Use WordNetLemmatizer com texto em inglês e compare com stemming."
      ],
      "metadata": {
        "id": "hXJPU6ar1Bye"
      }
    },
    {
      "cell_type": "code",
      "source": [
        "wordnext = nltk.WordNetLemmatizer()\n",
        "\n",
        "wordnext.lemmatize('wishs')"
      ],
      "metadata": {
        "colab": {
          "base_uri": "https://localhost:8080/",
          "height": 0
        },
        "id": "UPZOrJce1KR-",
        "outputId": "9c2d5da1-2eef-4451-c42e-8c7539afe5a0"
      },
      "execution_count": 108,
      "outputs": [
        {
          "output_type": "execute_result",
          "data": {
            "text/plain": [
              "'wish'"
            ],
            "application/vnd.google.colaboratory.intrinsic+json": {
              "type": "string"
            }
          },
          "metadata": {},
          "execution_count": 108
        }
      ]
    },
    {
      "cell_type": "markdown",
      "source": [
        "# Default Tagger"
      ],
      "metadata": {
        "id": "jH6Oc2Lt3Xqc"
      }
    },
    {
      "cell_type": "markdown",
      "source": [
        "## 1) Crie DefaultTagger('NOUN') e aplique a tokens de texto PT-BR."
      ],
      "metadata": {
        "id": "s304sGnu3gPs"
      }
    },
    {
      "cell_type": "code",
      "source": [
        "default_tagger = nltk.DefaultTagger('NOUN')\n",
        "\n",
        "default_tagger.tag(palavras_sem_stopwords)"
      ],
      "metadata": {
        "colab": {
          "base_uri": "https://localhost:8080/"
        },
        "id": "_V5QT66l3bt1",
        "outputId": "6d1dfeab-46a6-4ced-f501-a0437d8aa1b1"
      },
      "execution_count": 109,
      "outputs": [
        {
          "output_type": "execute_result",
          "data": {
            "text/plain": [
              "[('empregue', 'NOUN'),\n",
              " ('dinheiro', 'NOUN'),\n",
              " ('bons', 'NOUN'),\n",
              " ('negócios', 'NOUN'),\n",
              " ('lucro', 'NOUN'),\n",
              " ('vários', 'NOUN'),\n",
              " ('lugares', 'NOUN'),\n",
              " ('negócios', 'NOUN'),\n",
              " ('diferentes', 'NOUN'),\n",
              " ('porque', 'NOUN'),\n",
              " ('sabe', 'NOUN'),\n",
              " ('crise', 'NOUN'),\n",
              " ('poderá', 'NOUN'),\n",
              " ('acontecer', 'NOUN'),\n",
              " ('mundo', 'NOUN'),\n",
              " ('nuvens', 'NOUN'),\n",
              " ('ficam', 'NOUN'),\n",
              " ('cheias', 'NOUN'),\n",
              " ('chuva', 'NOUN'),\n",
              " ('cai', 'NOUN'),\n",
              " ('árvore', 'NOUN'),\n",
              " ('pode', 'NOUN'),\n",
              " ('cair', 'NOUN'),\n",
              " ('qualquer', 'NOUN'),\n",
              " ('direção', 'NOUN'),\n",
              " ('lugar', 'NOUN'),\n",
              " ('cair', 'NOUN'),\n",
              " ('ficará', 'NOUN'),\n",
              " ('fica', 'NOUN'),\n",
              " ('esperando', 'NOUN'),\n",
              " ('vento', 'NOUN'),\n",
              " ('mude', 'NOUN'),\n",
              " ('fique', 'NOUN'),\n",
              " ('bom', 'NOUN'),\n",
              " ('nunca', 'NOUN'),\n",
              " ('plantará', 'NOUN'),\n",
              " ('colherá', 'NOUN'),\n",
              " ('nada', 'NOUN'),\n",
              " ('faz', 'NOUN'),\n",
              " ('todas', 'NOUN'),\n",
              " ('coisas', 'NOUN'),\n",
              " ('pode', 'NOUN'),\n",
              " ('entender', 'NOUN'),\n",
              " ('começa', 'NOUN'),\n",
              " ('nova', 'NOUN'),\n",
              " ('vida', 'NOUN'),\n",
              " ('dentro', 'NOUN'),\n",
              " ('barriga', 'NOUN'),\n",
              " ('mulher', 'NOUN'),\n",
              " ('assim', 'NOUN'),\n",
              " ('pode', 'NOUN'),\n",
              " ('entender', 'NOUN'),\n",
              " ('coisas', 'NOUN'),\n",
              " ('faz', 'NOUN'),\n",
              " ('semeie', 'NOUN'),\n",
              " ('manhã', 'NOUN'),\n",
              " ('tarde', 'NOUN'),\n",
              " ('porque', 'NOUN'),\n",
              " ('sabe', 'NOUN'),\n",
              " ('todas', 'NOUN'),\n",
              " ('sementes', 'NOUN'),\n",
              " ('crescerão', 'NOUN'),\n",
              " ('bem', 'NOUN'),\n",
              " ('crescerá', 'NOUN'),\n",
              " ('melhor', 'NOUN'),\n",
              " ('outra', 'NOUN'),\n",
              " ('agradável', 'NOUN'),\n",
              " ('luz', 'NOUN'),\n",
              " ('dia', 'NOUN'),\n",
              " ('bom', 'NOUN'),\n",
              " ('ver', 'NOUN'),\n",
              " ('sol', 'NOUN'),\n",
              " ('viva', 'NOUN'),\n",
              " ('alegre', 'NOUN'),\n",
              " ('durante', 'NOUN'),\n",
              " ('todos', 'NOUN'),\n",
              " ('anos', 'NOUN'),\n",
              " ('vida', 'NOUN'),\n",
              " ('viva', 'NOUN'),\n",
              " ('muitos', 'NOUN'),\n",
              " ('anos', 'NOUN'),\n",
              " ('lembre', 'NOUN'),\n",
              " ('ficará', 'NOUN'),\n",
              " ('morto', 'NOUN'),\n",
              " ('durante', 'NOUN'),\n",
              " ('tudo', 'NOUN'),\n",
              " ('acontece', 'NOUN'),\n",
              " ('ilusão', 'NOUN'),\n",
              " ('jovem', 'NOUN'),\n",
              " ('aproveite', 'NOUN'),\n",
              " ('mocidade', 'NOUN'),\n",
              " ('feliz', 'NOUN'),\n",
              " ('enquanto', 'NOUN'),\n",
              " ('moço', 'NOUN'),\n",
              " ('faça', 'NOUN'),\n",
              " ('tudo', 'NOUN'),\n",
              " ('quiser', 'NOUN'),\n",
              " ('siga', 'NOUN'),\n",
              " ('desejos', 'NOUN'),\n",
              " ('coração', 'NOUN'),\n",
              " ('lembre', 'NOUN'),\n",
              " ('coisa', 'NOUN'),\n",
              " ('julgará', 'NOUN'),\n",
              " ('tudo', 'NOUN'),\n",
              " ('fizer', 'NOUN'),\n",
              " ('deixe', 'NOUN'),\n",
              " ('nada', 'NOUN'),\n",
              " ('preocupe', 'NOUN'),\n",
              " ('faça', 'NOUN'),\n",
              " ('sofrer', 'NOUN'),\n",
              " ('pois', 'NOUN'),\n",
              " ('mocidade', 'NOUN'),\n",
              " ('dura', 'NOUN'),\n",
              " ('pouco', 'NOUN')]"
            ]
          },
          "metadata": {},
          "execution_count": 109
        }
      ]
    }
  ]
}