{
  "nbformat": 4,
  "nbformat_minor": 0,
  "metadata": {
    "colab": {
      "provenance": []
    },
    "kernelspec": {
      "name": "python3",
      "display_name": "Python 3"
    },
    "language_info": {
      "name": "python"
    }
  },
  "cells": [
    {
      "cell_type": "markdown",
      "source": [
        "# 1. Crie três variáveis e atribua os valores a seguir: a=1, b=5.9 e c=‘teste’. A partir disso, bretorne o tipo de cada uma das variáveis. texto em itálico"
      ],
      "metadata": {
        "id": "ylp-cjSKoVin"
      }
    },
    {
      "cell_type": "code",
      "execution_count": 4,
      "metadata": {
        "id": "24NxJ58LlpWg"
      },
      "outputs": [],
      "source": [
        "a = 1\n",
        "b = 5,9\n",
        "c = \"teste\""
      ]
    },
    {
      "cell_type": "code",
      "source": [
        "type(a)"
      ],
      "metadata": {
        "colab": {
          "base_uri": "https://localhost:8080/"
        },
        "id": "OyqUMcCsn2kO",
        "outputId": "9adbee63-3bb2-4a61-a4a7-ead893bb8795"
      },
      "execution_count": 5,
      "outputs": [
        {
          "output_type": "execute_result",
          "data": {
            "text/plain": [
              "int"
            ]
          },
          "metadata": {},
          "execution_count": 5
        }
      ]
    },
    {
      "cell_type": "code",
      "source": [
        "type(b)"
      ],
      "metadata": {
        "colab": {
          "base_uri": "https://localhost:8080/"
        },
        "id": "i3_zqDHfn5SF",
        "outputId": "493e8bc3-49d7-4f58-af8a-297277c2b68b"
      },
      "execution_count": 6,
      "outputs": [
        {
          "output_type": "execute_result",
          "data": {
            "text/plain": [
              "tuple"
            ]
          },
          "metadata": {},
          "execution_count": 6
        }
      ]
    },
    {
      "cell_type": "code",
      "source": [
        "type(c)"
      ],
      "metadata": {
        "colab": {
          "base_uri": "https://localhost:8080/"
        },
        "id": "k-0DbFP7n5eO",
        "outputId": "7638498d-f630-4d1f-f35d-fa36ec7d05f7"
      },
      "execution_count": 7,
      "outputs": [
        {
          "output_type": "execute_result",
          "data": {
            "text/plain": [
              "str"
            ]
          },
          "metadata": {},
          "execution_count": 7
        }
      ]
    },
    {
      "cell_type": "markdown",
      "source": [
        "# 2. Troque o valor da variável a por ‘1’ e verifique se o tipo da variável mudou."
      ],
      "metadata": {
        "id": "J2rQ892sokxO"
      }
    },
    {
      "cell_type": "code",
      "source": [
        "a = '1'\n",
        "\n",
        "type(a)"
      ],
      "metadata": {
        "colab": {
          "base_uri": "https://localhost:8080/"
        },
        "id": "IlKg71aposJP",
        "outputId": "6db24e38-9e91-49ee-e18f-ac97f0ff36a8"
      },
      "execution_count": 9,
      "outputs": [
        {
          "output_type": "execute_result",
          "data": {
            "text/plain": [
              "str"
            ]
          },
          "metadata": {},
          "execution_count": 9
        }
      ]
    },
    {
      "cell_type": "markdown",
      "source": [
        "# 3. Faça a soma da variável b com a variável c. Interprete a saída, tanto em caso de execução correta quanto em caso de execução com erro."
      ],
      "metadata": {
        "id": "cxOCBz6zo9YF"
      }
    },
    {
      "cell_type": "code",
      "source": [
        "str(b) + c"
      ],
      "metadata": {
        "colab": {
          "base_uri": "https://localhost:8080/",
          "height": 35
        },
        "id": "m1_v0aLbo8Zf",
        "outputId": "bc185928-0c43-47e1-f217-d47763a79b6b"
      },
      "execution_count": 10,
      "outputs": [
        {
          "output_type": "execute_result",
          "data": {
            "text/plain": [
              "'(5, 9)teste'"
            ],
            "application/vnd.google.colaboratory.intrinsic+json": {
              "type": "string"
            }
          },
          "metadata": {},
          "execution_count": 10
        }
      ]
    },
    {
      "cell_type": "code",
      "source": [
        "b + c"
      ],
      "metadata": {
        "colab": {
          "base_uri": "https://localhost:8080/",
          "height": 141
        },
        "id": "7_GpJ0AepSyd",
        "outputId": "d3e8e48b-fd4f-4e3a-cd61-a8dee9e2470c"
      },
      "execution_count": 11,
      "outputs": [
        {
          "output_type": "error",
          "ename": "TypeError",
          "evalue": "can only concatenate tuple (not \"str\") to tuple",
          "traceback": [
            "\u001b[0;31m---------------------------------------------------------------------------\u001b[0m",
            "\u001b[0;31mTypeError\u001b[0m                                 Traceback (most recent call last)",
            "\u001b[0;32m/tmp/ipython-input-2898805413.py\u001b[0m in \u001b[0;36m<cell line: 0>\u001b[0;34m()\u001b[0m\n\u001b[0;32m----> 1\u001b[0;31m \u001b[0mb\u001b[0m \u001b[0;34m+\u001b[0m \u001b[0mc\u001b[0m\u001b[0;34m\u001b[0m\u001b[0;34m\u001b[0m\u001b[0m\n\u001b[0m",
            "\u001b[0;31mTypeError\u001b[0m: can only concatenate tuple (not \"str\") to tuple"
          ]
        }
      ]
    },
    {
      "cell_type": "markdown",
      "source": [
        "# 4. Crie uma lista com números de 0 a 9 (em qualquer ordem). Com ela, faça:\n",
        "- a. Adicione o número 6\n",
        "- b. Insira o número 7 na 3ª posição da lista\n",
        "- c. Remova o elemento 3 da lista\n",
        "- d. Adicione o número 4\n",
        "- e. Verifique o número de ocorrências do número 4 na lista"
      ],
      "metadata": {
        "id": "1bvNdWRrpjAH"
      }
    },
    {
      "cell_type": "code",
      "source": [
        "lista = [0, 2, 1, 4, 3, 5, 6, 8, 7, 9]"
      ],
      "metadata": {
        "id": "EfLSFYjOqDx7"
      },
      "execution_count": 12,
      "outputs": []
    },
    {
      "cell_type": "code",
      "source": [
        "lista.append(6)\n",
        "\n",
        "print(lista)"
      ],
      "metadata": {
        "colab": {
          "base_uri": "https://localhost:8080/"
        },
        "id": "gdP5P2UtqUQd",
        "outputId": "048dd6dc-af3a-4f98-8f84-21f049a1e552"
      },
      "execution_count": 13,
      "outputs": [
        {
          "output_type": "stream",
          "name": "stdout",
          "text": [
            "[0, 2, 1, 4, 3, 5, 6, 8, 7, 9, 6]\n"
          ]
        }
      ]
    },
    {
      "cell_type": "code",
      "source": [
        "lista.insert(2, 7)\n",
        "\n",
        "print(lista)"
      ],
      "metadata": {
        "colab": {
          "base_uri": "https://localhost:8080/"
        },
        "id": "d41zdQwsqhj3",
        "outputId": "87c9b6a1-b1b3-42fb-d952-7109469f50a3"
      },
      "execution_count": 14,
      "outputs": [
        {
          "output_type": "stream",
          "name": "stdout",
          "text": [
            "[0, 2, 7, 1, 4, 3, 5, 6, 8, 7, 9, 6]\n"
          ]
        }
      ]
    },
    {
      "cell_type": "code",
      "source": [
        "lista.remove(3)\n",
        "\n",
        "print(lista)"
      ],
      "metadata": {
        "colab": {
          "base_uri": "https://localhost:8080/"
        },
        "id": "EskkjhDhqrGU",
        "outputId": "a1a44979-a420-4425-bb44-fe351511c264"
      },
      "execution_count": 15,
      "outputs": [
        {
          "output_type": "stream",
          "name": "stdout",
          "text": [
            "[0, 2, 7, 1, 4, 5, 6, 8, 7, 9, 6]\n"
          ]
        }
      ]
    },
    {
      "cell_type": "code",
      "source": [
        "lista.append(4)\n",
        "\n",
        "print(lista)"
      ],
      "metadata": {
        "colab": {
          "base_uri": "https://localhost:8080/"
        },
        "id": "t83_PSZSrTl8",
        "outputId": "7dca1a38-1394-4855-a882-84b10f71dc79"
      },
      "execution_count": 16,
      "outputs": [
        {
          "output_type": "stream",
          "name": "stdout",
          "text": [
            "[0, 2, 7, 1, 4, 5, 6, 8, 7, 9, 6, 4]\n"
          ]
        }
      ]
    },
    {
      "cell_type": "code",
      "source": [
        "lista.count(4)"
      ],
      "metadata": {
        "colab": {
          "base_uri": "https://localhost:8080/"
        },
        "id": "stLc_5PvriaF",
        "outputId": "e9d5d18e-3d88-4f93-820a-3bd30cd32c77"
      },
      "execution_count": 17,
      "outputs": [
        {
          "output_type": "execute_result",
          "data": {
            "text/plain": [
              "2"
            ]
          },
          "metadata": {},
          "execution_count": 17
        }
      ]
    },
    {
      "cell_type": "markdown",
      "source": [
        "# 5. Ainda com a lista criada na questão anterior, faça:\n",
        "- a. Retorne os primeiros 3 elementos da lista\n",
        "- b. Retorne os elementos que estão da 3ª posição até a 7ª posição da lista\n",
        "- c. Retorne os elementos da lista de 3 em 3 elementos\n",
        "- d. Retorne os 3 últimos elementos da lista\n",
        "- e. Retorne todos os elementos menos os 4 últimos da lista"
      ],
      "metadata": {
        "id": "SSGVoZ71r06U"
      }
    },
    {
      "cell_type": "code",
      "source": [
        "lista[:3]"
      ],
      "metadata": {
        "colab": {
          "base_uri": "https://localhost:8080/"
        },
        "id": "DwPLpNSjrzod",
        "outputId": "bd44afc9-bfa7-44b3-8cae-e6380de1ca70"
      },
      "execution_count": 18,
      "outputs": [
        {
          "output_type": "execute_result",
          "data": {
            "text/plain": [
              "[0, 2, 7]"
            ]
          },
          "metadata": {},
          "execution_count": 18
        }
      ]
    },
    {
      "cell_type": "code",
      "source": [
        "lista[2:7]"
      ],
      "metadata": {
        "colab": {
          "base_uri": "https://localhost:8080/"
        },
        "id": "fNZ0DA4ish_k",
        "outputId": "cd2e5545-028e-4e88-d076-fc9597575eda"
      },
      "execution_count": 19,
      "outputs": [
        {
          "output_type": "execute_result",
          "data": {
            "text/plain": [
              "[7, 1, 4, 5, 6]"
            ]
          },
          "metadata": {},
          "execution_count": 19
        }
      ]
    },
    {
      "cell_type": "code",
      "source": [
        "lista[1:12:3]"
      ],
      "metadata": {
        "colab": {
          "base_uri": "https://localhost:8080/"
        },
        "id": "rQ8mVMi4snZj",
        "outputId": "cc9ee665-fd30-414a-e034-ba3036bae71e"
      },
      "execution_count": 20,
      "outputs": [
        {
          "output_type": "execute_result",
          "data": {
            "text/plain": [
              "[2, 4, 8, 6]"
            ]
          },
          "metadata": {},
          "execution_count": 20
        }
      ]
    },
    {
      "cell_type": "code",
      "source": [
        "lista[-3:]"
      ],
      "metadata": {
        "colab": {
          "base_uri": "https://localhost:8080/"
        },
        "id": "R3XtfghXuUJk",
        "outputId": "30431aec-8768-481e-908d-04d13ff69a19"
      },
      "execution_count": 21,
      "outputs": [
        {
          "output_type": "execute_result",
          "data": {
            "text/plain": [
              "[9, 6, 4]"
            ]
          },
          "metadata": {},
          "execution_count": 21
        }
      ]
    },
    {
      "cell_type": "code",
      "source": [
        "lista[:-4]"
      ],
      "metadata": {
        "colab": {
          "base_uri": "https://localhost:8080/"
        },
        "id": "agyqdOvrujub",
        "outputId": "c1f6ac83-d527-4c9c-fd64-bd9b0062b213"
      },
      "execution_count": 22,
      "outputs": [
        {
          "output_type": "execute_result",
          "data": {
            "text/plain": [
              "[0, 2, 7, 1, 4, 5, 6, 8]"
            ]
          },
          "metadata": {},
          "execution_count": 22
        }
      ]
    },
    {
      "cell_type": "markdown",
      "source": [
        "# 6. Com a lista das questões anteriores, retorne o 6º elemento da lista."
      ],
      "metadata": {
        "id": "dj4tewgmutzK"
      }
    },
    {
      "cell_type": "code",
      "source": [
        "lista[5]"
      ],
      "metadata": {
        "colab": {
          "base_uri": "https://localhost:8080/"
        },
        "id": "mjbcTN9Wu26T",
        "outputId": "8e093193-5640-48e3-9db4-4f5f7c15dcb7"
      },
      "execution_count": 23,
      "outputs": [
        {
          "output_type": "execute_result",
          "data": {
            "text/plain": [
              "5"
            ]
          },
          "metadata": {},
          "execution_count": 23
        }
      ]
    },
    {
      "cell_type": "markdown",
      "source": [
        "#7. Altere o valor do 7º elemento da lista para o valor 12."
      ],
      "metadata": {
        "id": "06ymbs8YvBbi"
      }
    },
    {
      "cell_type": "code",
      "source": [
        "lista[6] = 12\n",
        "\n",
        "print(lista)"
      ],
      "metadata": {
        "colab": {
          "base_uri": "https://localhost:8080/"
        },
        "id": "EIK8lZnUvJdc",
        "outputId": "deb286e7-875d-43ed-b573-426347da8b81"
      },
      "execution_count": 24,
      "outputs": [
        {
          "output_type": "stream",
          "name": "stdout",
          "text": [
            "[0, 2, 7, 1, 4, 5, 12, 8, 7, 9, 6, 4]\n"
          ]
        }
      ]
    },
    {
      "cell_type": "markdown",
      "source": [
        "#8. Inverta a ordem dos elementos na lista."
      ],
      "metadata": {
        "id": "YsdEgdofvbuk"
      }
    },
    {
      "cell_type": "code",
      "source": [
        "lista.reverse()\n",
        "\n",
        "print(lista)"
      ],
      "metadata": {
        "colab": {
          "base_uri": "https://localhost:8080/"
        },
        "id": "qdoGtjuUvh-1",
        "outputId": "6665d89c-8b23-41fe-c9bd-75e0559e666c"
      },
      "execution_count": 25,
      "outputs": [
        {
          "output_type": "stream",
          "name": "stdout",
          "text": [
            "[4, 6, 9, 7, 8, 12, 5, 4, 1, 7, 2, 0]\n"
          ]
        }
      ]
    },
    {
      "cell_type": "markdown",
      "source": [
        "#9. Ordene a lista."
      ],
      "metadata": {
        "id": "JlguSraovoFs"
      }
    },
    {
      "cell_type": "code",
      "source": [
        "lista.sort()\n",
        "\n",
        "print(lista)"
      ],
      "metadata": {
        "colab": {
          "base_uri": "https://localhost:8080/"
        },
        "id": "5g5MfYatvv29",
        "outputId": "85ce6729-2aa5-4c05-c393-0509bb12fbf8"
      },
      "execution_count": 26,
      "outputs": [
        {
          "output_type": "stream",
          "name": "stdout",
          "text": [
            "[0, 1, 2, 4, 4, 5, 6, 7, 7, 8, 9, 12]\n"
          ]
        }
      ]
    },
    {
      "cell_type": "markdown",
      "source": [
        "# 10. Crie uma tupla com números de 0 a 9 (em qualquer ordem) e tente:\n",
        "- a. Alterar o valor do 3º elemento da tupla para o valor 10\n",
        "- b. Verificar o índice (posição) do valor 5 na tupla"
      ],
      "metadata": {
        "id": "I2Sa7nCDv7QM"
      }
    },
    {
      "cell_type": "code",
      "source": [
        "tupla = (0, 2, 1, 4, 3, 5, 6, 8, 7, 9)"
      ],
      "metadata": {
        "id": "lU7Tpc7PwB2E"
      },
      "execution_count": 27,
      "outputs": []
    },
    {
      "cell_type": "code",
      "source": [
        "tupla[2] = 10"
      ],
      "metadata": {
        "colab": {
          "base_uri": "https://localhost:8080/",
          "height": 141
        },
        "id": "wVBRsXiTwLwV",
        "outputId": "646165e9-32ee-48bd-f966-9e54ac859a75"
      },
      "execution_count": 28,
      "outputs": [
        {
          "output_type": "error",
          "ename": "TypeError",
          "evalue": "'tuple' object does not support item assignment",
          "traceback": [
            "\u001b[0;31m---------------------------------------------------------------------------\u001b[0m",
            "\u001b[0;31mTypeError\u001b[0m                                 Traceback (most recent call last)",
            "\u001b[0;32m/tmp/ipython-input-320069412.py\u001b[0m in \u001b[0;36m<cell line: 0>\u001b[0;34m()\u001b[0m\n\u001b[0;32m----> 1\u001b[0;31m \u001b[0mtupla\u001b[0m\u001b[0;34m[\u001b[0m\u001b[0;36m2\u001b[0m\u001b[0;34m]\u001b[0m \u001b[0;34m=\u001b[0m \u001b[0;36m10\u001b[0m\u001b[0;34m\u001b[0m\u001b[0;34m\u001b[0m\u001b[0m\n\u001b[0m",
            "\u001b[0;31mTypeError\u001b[0m: 'tuple' object does not support item assignment"
          ]
        }
      ]
    },
    {
      "cell_type": "code",
      "source": [
        "tupla.index(5)"
      ],
      "metadata": {
        "colab": {
          "base_uri": "https://localhost:8080/"
        },
        "id": "gfMMvm67wS8F",
        "outputId": "a5decdb3-25f0-49bc-fedc-4b49dba81b8d"
      },
      "execution_count": 29,
      "outputs": [
        {
          "output_type": "execute_result",
          "data": {
            "text/plain": [
              "5"
            ]
          },
          "metadata": {},
          "execution_count": 29
        }
      ]
    },
    {
      "cell_type": "markdown",
      "source": [
        "# 11. Crie um dicionário com 5 entradas e suas respectivas chaves e valores. Faça:\n",
        "- a. Imprima todas as chaves do dicionário\n",
        "- b. Imprima todos os valores do dicionário\n",
        "- c. Imprima todos os itens do dicionário\n",
        "- d. Imprima o 2º item do dicionário\n",
        "- e. Imprima o dicionário completo\n",
        "- f. Percorra o dicionário, imprimindo para cada entrada o modelo “(chave) tem como valor (valor)”\n"
      ],
      "metadata": {
        "id": "nT--JN_DyrjW"
      }
    },
    {
      "cell_type": "code",
      "source": [
        "dicionario = {\n",
        "    'chave1': 'valor1',\n",
        "    'chave2': 'valor2',\n",
        "    'chave3': 'valor3',\n",
        "    'chave4': 'valor4',\n",
        "    'chave5': 'valor5'\n",
        "}\n",
        "\n",
        "print(dicionario.keys())"
      ],
      "metadata": {
        "colab": {
          "base_uri": "https://localhost:8080/"
        },
        "id": "kOz9N1y8y3W-",
        "outputId": "a3dc4631-1411-4bdd-f512-0bd97175455d"
      },
      "execution_count": 30,
      "outputs": [
        {
          "output_type": "stream",
          "name": "stdout",
          "text": [
            "dict_keys(['chave1', 'chave2', 'chave3', 'chave4', 'chave5'])\n"
          ]
        }
      ]
    },
    {
      "cell_type": "code",
      "source": [
        "for chave in dicionario.values():\n",
        "    print(chave)"
      ],
      "metadata": {
        "colab": {
          "base_uri": "https://localhost:8080/"
        },
        "id": "PdfO70bezFwO",
        "outputId": "153e91f6-630f-4b70-fb9f-82faf36dbd80"
      },
      "execution_count": 31,
      "outputs": [
        {
          "output_type": "stream",
          "name": "stdout",
          "text": [
            "valor1\n",
            "valor2\n",
            "valor3\n",
            "valor4\n",
            "valor5\n"
          ]
        }
      ]
    },
    {
      "cell_type": "code",
      "source": [
        "print(dicionario.items())"
      ],
      "metadata": {
        "colab": {
          "base_uri": "https://localhost:8080/"
        },
        "id": "j1oWP4mbzXfI",
        "outputId": "56bf3160-6dc0-4156-80a2-712efbe4d087"
      },
      "execution_count": 32,
      "outputs": [
        {
          "output_type": "stream",
          "name": "stdout",
          "text": [
            "dict_items([('chave1', 'valor1'), ('chave2', 'valor2'), ('chave3', 'valor3'), ('chave4', 'valor4'), ('chave5', 'valor5')])\n"
          ]
        }
      ]
    },
    {
      "cell_type": "code",
      "source": [
        "dicionario['chave2']"
      ],
      "metadata": {
        "colab": {
          "base_uri": "https://localhost:8080/",
          "height": 35
        },
        "id": "_I2s0ZHizhba",
        "outputId": "985b0584-790d-4196-961c-5a78b2ab7564"
      },
      "execution_count": 33,
      "outputs": [
        {
          "output_type": "execute_result",
          "data": {
            "text/plain": [
              "'valor2'"
            ],
            "application/vnd.google.colaboratory.intrinsic+json": {
              "type": "string"
            }
          },
          "metadata": {},
          "execution_count": 33
        }
      ]
    },
    {
      "cell_type": "code",
      "source": [
        "print(dicionario.items())"
      ],
      "metadata": {
        "colab": {
          "base_uri": "https://localhost:8080/"
        },
        "id": "HlftsAce0BYX",
        "outputId": "fd4e122f-13cd-47b9-d790-eadf52c0fda8"
      },
      "execution_count": 34,
      "outputs": [
        {
          "output_type": "stream",
          "name": "stdout",
          "text": [
            "dict_items([('chave1', 'valor1'), ('chave2', 'valor2'), ('chave3', 'valor3'), ('chave4', 'valor4'), ('chave5', 'valor5')])\n"
          ]
        }
      ]
    },
    {
      "cell_type": "code",
      "source": [
        "for chave, valor in dicionario.items():\n",
        "    print(f\"{chave} tem como valor {valor}\")"
      ],
      "metadata": {
        "colab": {
          "base_uri": "https://localhost:8080/"
        },
        "id": "rN6q5vt1c6Ud",
        "outputId": "3910a39e-5ea7-4066-aa77-cfa40ed069b8"
      },
      "execution_count": 35,
      "outputs": [
        {
          "output_type": "stream",
          "name": "stdout",
          "text": [
            "chave1 tem como valor valor1\n",
            "chave2 tem como valor valor2\n",
            "chave3 tem como valor valor3\n",
            "chave4 tem como valor valor4\n",
            "chave5 tem como valor valor5\n"
          ]
        }
      ]
    },
    {
      "cell_type": "markdown",
      "source": [
        "# 12. Crie um arquivo e:\n",
        "- a. Escreva nele os números de 1 a 10\n",
        "- b. Depois de escrito, imprima na tela todos os números do arquivo\n",
        "- c. Escreva no arquivo os números de 11 a 20, substituindo os números que estavam antes no arquivo\n",
        "- d. Escreva no arquivo os números de 21 a 30, adicionando os números no final do arquivo (sem apagar o que já estavam lá)\n",
        "- e. Imprima na tela todos os números do arquivo novamente (de 11 a 30)\n",
        "- f. Imprima na tela todos os números do arquivo novamente, mas agora linha por linha"
      ],
      "metadata": {
        "id": "xd819X5YdzIq"
      }
    },
    {
      "cell_type": "code",
      "source": [
        "arquivo = open('arquivo.txt', 'w')\n",
        "\n",
        "for i in range(10):\n",
        "    arquivo.writelines(str(i + 1))\n",
        "\n",
        "arquivo.close()"
      ],
      "metadata": {
        "id": "iZ0WkfsJexF5"
      },
      "execution_count": 59,
      "outputs": []
    },
    {
      "cell_type": "code",
      "source": [
        "with open('arquivo.txt', 'r') as arquivo:\n",
        "    print(arquivo.read())"
      ],
      "metadata": {
        "colab": {
          "base_uri": "https://localhost:8080/"
        },
        "id": "VEPQyH-uf-CJ",
        "outputId": "12c27db1-4253-4144-b1c9-593250da9f63"
      },
      "execution_count": 61,
      "outputs": [
        {
          "output_type": "stream",
          "name": "stdout",
          "text": [
            "12345678910\n"
          ]
        }
      ]
    },
    {
      "cell_type": "code",
      "source": [
        "arquivo = open('arquivo.txt', 'w')\n",
        "\n",
        "for i in range(10):\n",
        "    arquivo.writelines(str(i + 11))\n",
        "\n",
        "arquivo.close()\n",
        "\n",
        "with open('arquivo.txt', 'r') as arquivo:\n",
        "    print(arquivo.read())"
      ],
      "metadata": {
        "colab": {
          "base_uri": "https://localhost:8080/"
        },
        "id": "VFGOls1TgB6Z",
        "outputId": "e1561cab-8a36-403e-9a5a-f0ff0999b3f6"
      },
      "execution_count": 70,
      "outputs": [
        {
          "output_type": "stream",
          "name": "stdout",
          "text": [
            "11121314151617181920\n"
          ]
        }
      ]
    },
    {
      "cell_type": "code",
      "source": [
        "arquivo = open('arquivo.txt', 'a')\n",
        "\n",
        "for i in range(10):\n",
        "    arquivo.writelines(str(i + 21))\n",
        "arquivo.close()\n",
        "\n",
        "with open('arquivo.txt', 'r') as arquivo:\n",
        "    print(arquivo.read())"
      ],
      "metadata": {
        "colab": {
          "base_uri": "https://localhost:8080/"
        },
        "id": "gMVmlH1ygk90",
        "outputId": "27385c62-3006-4cf2-bb23-b4ea09bcc885"
      },
      "execution_count": 71,
      "outputs": [
        {
          "output_type": "stream",
          "name": "stdout",
          "text": [
            "1112131415161718192021222324252627282930\n"
          ]
        }
      ]
    },
    {
      "cell_type": "code",
      "source": [
        "with open(\"arquivo.txt\", \"w\") as arquivo:\n",
        "    for i in range(20):\n",
        "        arquivo.writelines(str(i + 11) + \"\\n\")\n",
        "\n",
        "with open(\"arquivo.txt\", \"r\") as arquivo:\n",
        "    for linha in arquivo:\n",
        "        print(linha.strip())"
      ],
      "metadata": {
        "colab": {
          "base_uri": "https://localhost:8080/"
        },
        "id": "-xM7JLt9g6EX",
        "outputId": "8d860680-e731-4cf9-9257-b7eebf0b18c8"
      },
      "execution_count": 73,
      "outputs": [
        {
          "output_type": "stream",
          "name": "stdout",
          "text": [
            "11\n",
            "12\n",
            "13\n",
            "14\n",
            "15\n",
            "16\n",
            "17\n",
            "18\n",
            "19\n",
            "20\n",
            "21\n",
            "22\n",
            "23\n",
            "24\n",
            "25\n",
            "26\n",
            "27\n",
            "28\n",
            "29\n",
            "30\n"
          ]
        }
      ]
    }
  ]
}